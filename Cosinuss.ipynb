{
  "nbformat": 4,
  "nbformat_minor": 0,
  "metadata": {
    "colab": {
      "name": "Cosinuss.ipynb",
      "provenance": [],
      "collapsed_sections": [],
      "authorship_tag": "ABX9TyODNJaX9TgZpuNk8aK4JPHa",
      "include_colab_link": true
    },
    "kernelspec": {
      "name": "python3",
      "display_name": "Python 3"
    }
  },
  "cells": [
    {
      "cell_type": "markdown",
      "metadata": {
        "id": "view-in-github",
        "colab_type": "text"
      },
      "source": [
        "<a href=\"https://colab.research.google.com/github/supertime1/Floyer_Analysis/blob/main/Cosinuss.ipynb\" target=\"_parent\"><img src=\"https://colab.research.google.com/assets/colab-badge.svg\" alt=\"Open In Colab\"/></a>"
      ]
    },
    {
      "cell_type": "markdown",
      "metadata": {
        "id": "UUCjV4YaSzpT"
      },
      "source": [
        "#1. Set up dependency"
      ]
    },
    {
      "cell_type": "code",
      "metadata": {
        "id": "X_NhMO3JRJC0"
      },
      "source": [
        "import sys\r\n",
        "sys.path.append('C:/Users/57lzhang.US04WW4008/PycharmProjects/cosinuss')"
      ],
      "execution_count": null,
      "outputs": []
    },
    {
      "cell_type": "code",
      "metadata": {
        "id": "buQcxbm5RvZd"
      },
      "source": [
        "from data_container import config, DataFile\r\n",
        "from data_container.api_db_sync import DBSync\r\n",
        "import matplotlib.pyplot as plt\r\n",
        "import numpy as np\r\n",
        "import pandas as pd\r\n",
        "import datetime\r\n",
        "import pickle"
      ],
      "execution_count": null,
      "outputs": []
    },
    {
      "cell_type": "markdown",
      "metadata": {
        "id": "Ae-3xQw-S4E9"
      },
      "source": [
        "#2.Connect to Cosinuss Database"
      ]
    },
    {
      "cell_type": "markdown",
      "metadata": {
        "id": "OlPl6rEfprbe"
      },
      "source": [
        "Open redis-server.exe first before running configure_api() "
      ]
    },
    {
      "cell_type": "code",
      "metadata": {
        "colab": {
          "base_uri": "https://localhost:8080/"
        },
        "id": "bU7_4mYhR1ou",
        "outputId": "6d7c6d94-a6f5-466b-83e5-973aeb22bc16"
      },
      "source": [
        "def configure_api(db_name, username, update_local=False):\r\n",
        "    \"\"\"\r\n",
        "    Configure api as the data handler\r\n",
        "    \"\"\"\r\n",
        "    try:\r\n",
        "        config.init(db_name=db_name)\r\n",
        "        api = DBSync(username=username,\r\n",
        "                    server = 'https://telecovid.earconnect.de')\r\n",
        "    except:\r\n",
        "        print('Configure API failed')\r\n",
        "        return\r\n",
        "    # password: teeshau7aiMonoh9ee\r\n",
        "    if update_local:\r\n",
        "    # download data from the server\r\n",
        "        api.pull_all_dfs(prj_hash_id='M9KH')\r\n",
        "    \r\n",
        "    df_list_local = api.df_list(prj_hash_id='M9KH')\r\n",
        "    print('There are', len(df_list_local), 'files in local database')\r\n",
        "    return api\r\n",
        "\r\n",
        "\r\n",
        "api = configure_api('sonova_analysis', 'sonova.fremont.api')"
      ],
      "execution_count": null,
      "outputs": [
        {
          "output_type": "stream",
          "text": [
            "2021-03-01 08:37:01 - ERROR -       dc_config:  52 - data_container.config.init() can only be called once\n",
            "2021-03-01 08:37:02 -  INFO -       api_login: 241 - login: sonova.fremont.api @ https://telecovid.earconnect.de\n"
          ],
          "name": "stderr"
        },
        {
          "output_type": "stream",
          "text": [
            "··········\n"
          ],
          "name": "stdout"
        },
        {
          "output_type": "stream",
          "text": [
            "2021-03-01 08:37:09 -  INFO -       api_login: 253 - successful login, it expires 2021-03-01 20:37:09 expiring in 720.0 min\n"
          ],
          "name": "stderr"
        },
        {
          "output_type": "stream",
          "text": [
            "There are 163 files in local database\n"
          ],
          "name": "stdout"
        }
      ]
    },
    {
      "cell_type": "code",
      "metadata": {
        "colab": {
          "base_uri": "https://localhost:8080/",
          "height": 215
        },
        "id": "4dKZ65Q_z5b-",
        "outputId": "097742a2-ab36-4c8a-dc43-661e9332fc2f"
      },
      "source": [
        "def generate_table(date):\r\n",
        "    \"\"\"\r\n",
        "    Convert local database into a Pandas dataframe, for ease of data analysis\r\n",
        "\r\n",
        "    params:\r\n",
        "    date: select the date that data is generated\r\n",
        "\r\n",
        "    outputs:\r\n",
        "    an overview table in the form of pandas dataframe\r\n",
        "    \"\"\"\r\n",
        "    table = api.overview_dfs()\r\n",
        "    overview_df = pd.DataFrame(table[1:], columns=table[0])\r\n",
        "    # change to lower case for the device name\r\n",
        "    overview_df['device'] = overview_df['device'].str.lower()\r\n",
        "    overview_df.loc[overview_df.device.str.match(r'^polar'), 'device']= 'polar'\r\n",
        "    overview_df = overview_df[overview_df.when > date]\r\n",
        "    overview_df['when'] = [datetime.datetime.strptime(i, '%Y-%m-%d %H:%M:%S') for \r\n",
        "                           i in list(overview_df['when'])]\r\n",
        "    overview_df['duration'] = [datetime.datetime.strptime(i, '%H:%M:%S') for \r\n",
        "                               i in list(overview_df['duration'])]\r\n",
        "    overview_df['end'] = [(overview_df.when.loc[i] \r\n",
        "                           - datetime.datetime(1900, 1, 1) \r\n",
        "                           + overview_df.duration.loc[i]) for i in overview_df.index]\r\n",
        "    return overview_df\r\n",
        "\r\n",
        "table = generate_table('2020-12-31')\r\n",
        "print('There are', len(table), 'test records')\r\n",
        "table.head()"
      ],
      "execution_count": null,
      "outputs": [
        {
          "output_type": "stream",
          "text": [
            "There are 63 test records\n"
          ],
          "name": "stdout"
        },
        {
          "output_type": "execute_result",
          "data": {
            "text/plain": [
              "               person                when  device              df id  \\\n",
              "100  M9KH.BZYG (RaHe) 2021-02-08 14:15:09   polar  1C2RATHBVH.C4CDEZ   \n",
              "101  M9KH.BZYG (RaHe) 2021-02-08 14:15:14  cshell  1C2RATHBVH.38CD8K   \n",
              "102  M9KH.BZYG (RaHe) 2021-02-08 14:15:23  cshell  1C2RATHBVH.LEMWKL   \n",
              "103  M9KH.BZYG (RaHe) 2021-02-08 14:15:35  garmin  8QEK89R9B4.NZH5XL   \n",
              "104  M9KH.ME9A (LeLo) 2021-02-08 15:23:00   polar  1C2RATHBVH.XCMFW1   \n",
              "\n",
              "               duration samples                                 cols  \\\n",
              "100 1900-01-01 00:34:48   2.1 K                           heart_rate   \n",
              "101 1900-01-01 00:34:42   1.7 M  ppg_ir, ppg_ir_2, ppg_ir_3, ppg_...   \n",
              "102 1900-01-01 00:34:36   1.7 M  ppg_ir, ppg_ir_2, ppg_ir_3, ppg_...   \n",
              "103 1900-01-01 00:45:27   2.7 K                           heart_rate   \n",
              "104 1900-01-01 00:34:34   2.1 K                           heart_rate   \n",
              "\n",
              "                    end  \n",
              "100 2021-02-08 14:49:57  \n",
              "101 2021-02-08 14:49:56  \n",
              "102 2021-02-08 14:49:59  \n",
              "103 2021-02-08 15:01:02  \n",
              "104 2021-02-08 15:57:34  "
            ],
            "text/html": [
              "<div>\n",
              "<style scoped>\n",
              "    .dataframe tbody tr th:only-of-type {\n",
              "        vertical-align: middle;\n",
              "    }\n",
              "\n",
              "    .dataframe tbody tr th {\n",
              "        vertical-align: top;\n",
              "    }\n",
              "\n",
              "    .dataframe thead th {\n",
              "        text-align: right;\n",
              "    }\n",
              "</style>\n",
              "<table border=\"1\" class=\"dataframe\">\n",
              "  <thead>\n",
              "    <tr style=\"text-align: right;\">\n",
              "      <th></th>\n",
              "      <th>person</th>\n",
              "      <th>when</th>\n",
              "      <th>device</th>\n",
              "      <th>df id</th>\n",
              "      <th>duration</th>\n",
              "      <th>samples</th>\n",
              "      <th>cols</th>\n",
              "      <th>end</th>\n",
              "    </tr>\n",
              "  </thead>\n",
              "  <tbody>\n",
              "    <tr>\n",
              "      <td>100</td>\n",
              "      <td>M9KH.BZYG (RaHe)</td>\n",
              "      <td>2021-02-08 14:15:09</td>\n",
              "      <td>polar</td>\n",
              "      <td>1C2RATHBVH.C4CDEZ</td>\n",
              "      <td>1900-01-01 00:34:48</td>\n",
              "      <td>2.1 K</td>\n",
              "      <td>heart_rate</td>\n",
              "      <td>2021-02-08 14:49:57</td>\n",
              "    </tr>\n",
              "    <tr>\n",
              "      <td>101</td>\n",
              "      <td>M9KH.BZYG (RaHe)</td>\n",
              "      <td>2021-02-08 14:15:14</td>\n",
              "      <td>cshell</td>\n",
              "      <td>1C2RATHBVH.38CD8K</td>\n",
              "      <td>1900-01-01 00:34:42</td>\n",
              "      <td>1.7 M</td>\n",
              "      <td>ppg_ir, ppg_ir_2, ppg_ir_3, ppg_...</td>\n",
              "      <td>2021-02-08 14:49:56</td>\n",
              "    </tr>\n",
              "    <tr>\n",
              "      <td>102</td>\n",
              "      <td>M9KH.BZYG (RaHe)</td>\n",
              "      <td>2021-02-08 14:15:23</td>\n",
              "      <td>cshell</td>\n",
              "      <td>1C2RATHBVH.LEMWKL</td>\n",
              "      <td>1900-01-01 00:34:36</td>\n",
              "      <td>1.7 M</td>\n",
              "      <td>ppg_ir, ppg_ir_2, ppg_ir_3, ppg_...</td>\n",
              "      <td>2021-02-08 14:49:59</td>\n",
              "    </tr>\n",
              "    <tr>\n",
              "      <td>103</td>\n",
              "      <td>M9KH.BZYG (RaHe)</td>\n",
              "      <td>2021-02-08 14:15:35</td>\n",
              "      <td>garmin</td>\n",
              "      <td>8QEK89R9B4.NZH5XL</td>\n",
              "      <td>1900-01-01 00:45:27</td>\n",
              "      <td>2.7 K</td>\n",
              "      <td>heart_rate</td>\n",
              "      <td>2021-02-08 15:01:02</td>\n",
              "    </tr>\n",
              "    <tr>\n",
              "      <td>104</td>\n",
              "      <td>M9KH.ME9A (LeLo)</td>\n",
              "      <td>2021-02-08 15:23:00</td>\n",
              "      <td>polar</td>\n",
              "      <td>1C2RATHBVH.XCMFW1</td>\n",
              "      <td>1900-01-01 00:34:34</td>\n",
              "      <td>2.1 K</td>\n",
              "      <td>heart_rate</td>\n",
              "      <td>2021-02-08 15:57:34</td>\n",
              "    </tr>\n",
              "  </tbody>\n",
              "</table>\n",
              "</div>"
            ]
          },
          "metadata": {
            "tags": []
          },
          "execution_count": 8
        }
      ]
    },
    {
      "cell_type": "code",
      "metadata": {
        "id": "Bovy12uwygfx"
      },
      "source": [
        " def correct_label(table):\r\n",
        "    \"\"\"\r\n",
        "    fix the labeling problem of cshell and biometric\r\n",
        "    \r\n",
        "    params:\r\n",
        "    overview table from generate_table function\r\n",
        "\r\n",
        "    outputs:\r\n",
        "    updated table with correct cshell and biometric labels\r\n",
        "\r\n",
        "    \"\"\"\r\n",
        "    def get_device_model(df):\r\n",
        "        \"\"\"\r\n",
        "        get device\r\n",
        "        \r\n",
        "        params:\r\n",
        "        df - output of api.pull_df\r\n",
        "        \r\n",
        "        outputs:\r\n",
        "        correct device label for df\r\n",
        "        \"\"\"\r\n",
        "        # get device\r\n",
        "        if df.device:\r\n",
        "            device_model = df.device.device_model\r\n",
        "        else:\r\n",
        "            device_model = df.device_model\r\n",
        "        \r\n",
        "        if 'polar' in device_model.lower():\r\n",
        "            return 'polar'\r\n",
        "\r\n",
        "        elif 'biomeric' in device_model.lower() or 'cshell' in device_model.lower():\r\n",
        "            if 'ppg_ir_2' in list(df.cols):\r\n",
        "                some_data = df.c.ppg_ir_2.y[600:650]\r\n",
        "                if list(some_data):\r\n",
        "                    ppg_mean = np.mean(some_data)\r\n",
        "                else:\r\n",
        "                    return 'na'\r\n",
        "            else:\r\n",
        "                ppg_mean = 1000\r\n",
        "            \r\n",
        "            if ppg_mean < 500:\r\n",
        "                return 'cshell'\r\n",
        "            else:\r\n",
        "                return 'biometric'\r\n",
        "    \r\n",
        "    def get_correct_label(hash_ids, target_device):\r\n",
        "        \"\"\"\r\n",
        "\r\n",
        "        \"\"\"\r\n",
        "        # output list of corrected labels\r\n",
        "        corrected_name = []\r\n",
        "        # a counter to record how many labels have been corrected after processing\r\n",
        "        cnt = 0\r\n",
        "        print(f'There are in total {len(hash_ids)} files with {target_device} label')\r\n",
        "        for i in range(len(hash_ids)):\r\n",
        "            try:\r\n",
        "                print(f'api reading {i}th file...')\r\n",
        "                df = api.pull_df(list(hash_ids)[i]) \r\n",
        "            # in case reading file failed\r\n",
        "            except:\r\n",
        "                print(f'api read {i}th file failed!')\r\n",
        "                corrected_name.append(table.loc[hash_ids.index[i]].device)\r\n",
        "                continue\r\n",
        "            # get the new label by api reading the file\r\n",
        "            new_label = get_device_model(df)\r\n",
        "            corrected_name.append(new_label)\r\n",
        "            if new_label != table.loc[hash_ids.index[i]].device:\r\n",
        "                print(f'Person {table.loc[hash_ids.index[i]].person} and \\\r\n",
        "            {target_device} label has been corrected to {new_label}')\r\n",
        "                cnt += 1\r\n",
        "        print(f'There are in total {cnt} files been corrected')\r\n",
        "        return corrected_name\r\n",
        "\r\n",
        "    # get the hash ids of cshell and biometric in original table\r\n",
        "    cshell_hash_ids = table[table.device == 'cshell']['df id']\r\n",
        "    biometric_hash_ids = table[table.device == 'biometric']['df id']\r\n",
        "\r\n",
        "    # get the row index of cshell and biometric in original table\r\n",
        "    original_cshell_index = table[table.device == 'cshell'].index\r\n",
        "    original_biometric_index = table[table.device == 'biometric'].index\r\n",
        "    \r\n",
        "    # update the original table with corrected labels of cshell and biometric\r\n",
        "    table.device.loc[original_cshell_index] = get_correct_label(cshell_hash_ids, \r\n",
        "                                                     'cshell')\r\n",
        "    table.device.loc[original_biometric_index] = get_correct_label(biometric_hash_ids, \r\n",
        "                                                        'biometric')\r\n",
        "\r\n",
        "    return table\r\n",
        "\r\n",
        "table = correct_label(table)"
      ],
      "execution_count": null,
      "outputs": []
    },
    {
      "cell_type": "code",
      "metadata": {
        "id": "7XkqoXp1rFQ1",
        "colab": {
          "base_uri": "https://localhost:8080/",
          "height": 197
        },
        "outputId": "a83f4240-72ee-42a7-9d51-87208be2827e"
      },
      "source": [
        "table.to_pickle(\"C:/Users/57lzhang.US04WW4008/PycharmProjects/cosinuss/local_db.pkl\")\r\n",
        "#load table from local directory\r\n",
        "table = pd.read_pickle(\"C:/Users/57lzhang.US04WW4008/PycharmProjects/cosinuss/local_db.pkl\")\r\n",
        "table.head()"
      ],
      "execution_count": null,
      "outputs": [
        {
          "output_type": "execute_result",
          "data": {
            "text/plain": [
              "               person                when     device              df id  \\\n",
              "100  M9KH.BZYG (RaHe) 2021-02-08 14:15:09      polar  1C2RATHBVH.C4CDEZ   \n",
              "101  M9KH.BZYG (RaHe) 2021-02-08 14:15:14     cshell  1C2RATHBVH.38CD8K   \n",
              "102  M9KH.BZYG (RaHe) 2021-02-08 14:15:23  biometric  1C2RATHBVH.LEMWKL   \n",
              "103  M9KH.BZYG (RaHe) 2021-02-08 14:15:35     garmin  8QEK89R9B4.NZH5XL   \n",
              "104  M9KH.ME9A (LeLo) 2021-02-08 15:23:00      polar  1C2RATHBVH.XCMFW1   \n",
              "\n",
              "               duration samples                                 cols  \\\n",
              "100 1900-01-01 00:34:48   2.1 K                           heart_rate   \n",
              "101 1900-01-01 00:34:42   1.7 M  ppg_ir, ppg_ir_2, ppg_ir_3, ppg_...   \n",
              "102 1900-01-01 00:34:36   1.7 M  ppg_ir, ppg_ir_2, ppg_ir_3, ppg_...   \n",
              "103 1900-01-01 00:45:27   2.7 K                           heart_rate   \n",
              "104 1900-01-01 00:34:34   2.1 K                           heart_rate   \n",
              "\n",
              "                    end  \n",
              "100 2021-02-08 14:49:57  \n",
              "101 2021-02-08 14:49:56  \n",
              "102 2021-02-08 14:49:59  \n",
              "103 2021-02-08 15:01:02  \n",
              "104 2021-02-08 15:57:34  "
            ],
            "text/html": [
              "<div>\n",
              "<style scoped>\n",
              "    .dataframe tbody tr th:only-of-type {\n",
              "        vertical-align: middle;\n",
              "    }\n",
              "\n",
              "    .dataframe tbody tr th {\n",
              "        vertical-align: top;\n",
              "    }\n",
              "\n",
              "    .dataframe thead th {\n",
              "        text-align: right;\n",
              "    }\n",
              "</style>\n",
              "<table border=\"1\" class=\"dataframe\">\n",
              "  <thead>\n",
              "    <tr style=\"text-align: right;\">\n",
              "      <th></th>\n",
              "      <th>person</th>\n",
              "      <th>when</th>\n",
              "      <th>device</th>\n",
              "      <th>df id</th>\n",
              "      <th>duration</th>\n",
              "      <th>samples</th>\n",
              "      <th>cols</th>\n",
              "      <th>end</th>\n",
              "    </tr>\n",
              "  </thead>\n",
              "  <tbody>\n",
              "    <tr>\n",
              "      <td>100</td>\n",
              "      <td>M9KH.BZYG (RaHe)</td>\n",
              "      <td>2021-02-08 14:15:09</td>\n",
              "      <td>polar</td>\n",
              "      <td>1C2RATHBVH.C4CDEZ</td>\n",
              "      <td>1900-01-01 00:34:48</td>\n",
              "      <td>2.1 K</td>\n",
              "      <td>heart_rate</td>\n",
              "      <td>2021-02-08 14:49:57</td>\n",
              "    </tr>\n",
              "    <tr>\n",
              "      <td>101</td>\n",
              "      <td>M9KH.BZYG (RaHe)</td>\n",
              "      <td>2021-02-08 14:15:14</td>\n",
              "      <td>cshell</td>\n",
              "      <td>1C2RATHBVH.38CD8K</td>\n",
              "      <td>1900-01-01 00:34:42</td>\n",
              "      <td>1.7 M</td>\n",
              "      <td>ppg_ir, ppg_ir_2, ppg_ir_3, ppg_...</td>\n",
              "      <td>2021-02-08 14:49:56</td>\n",
              "    </tr>\n",
              "    <tr>\n",
              "      <td>102</td>\n",
              "      <td>M9KH.BZYG (RaHe)</td>\n",
              "      <td>2021-02-08 14:15:23</td>\n",
              "      <td>biometric</td>\n",
              "      <td>1C2RATHBVH.LEMWKL</td>\n",
              "      <td>1900-01-01 00:34:36</td>\n",
              "      <td>1.7 M</td>\n",
              "      <td>ppg_ir, ppg_ir_2, ppg_ir_3, ppg_...</td>\n",
              "      <td>2021-02-08 14:49:59</td>\n",
              "    </tr>\n",
              "    <tr>\n",
              "      <td>103</td>\n",
              "      <td>M9KH.BZYG (RaHe)</td>\n",
              "      <td>2021-02-08 14:15:35</td>\n",
              "      <td>garmin</td>\n",
              "      <td>8QEK89R9B4.NZH5XL</td>\n",
              "      <td>1900-01-01 00:45:27</td>\n",
              "      <td>2.7 K</td>\n",
              "      <td>heart_rate</td>\n",
              "      <td>2021-02-08 15:01:02</td>\n",
              "    </tr>\n",
              "    <tr>\n",
              "      <td>104</td>\n",
              "      <td>M9KH.ME9A (LeLo)</td>\n",
              "      <td>2021-02-08 15:23:00</td>\n",
              "      <td>polar</td>\n",
              "      <td>1C2RATHBVH.XCMFW1</td>\n",
              "      <td>1900-01-01 00:34:34</td>\n",
              "      <td>2.1 K</td>\n",
              "      <td>heart_rate</td>\n",
              "      <td>2021-02-08 15:57:34</td>\n",
              "    </tr>\n",
              "  </tbody>\n",
              "</table>\n",
              "</div>"
            ]
          },
          "metadata": {
            "tags": []
          },
          "execution_count": 20
        }
      ]
    },
    {
      "cell_type": "code",
      "metadata": {
        "id": "6nSKkqBi1THp",
        "colab": {
          "base_uri": "https://localhost:8080/"
        },
        "outputId": "d772ad62-14f3-466c-9191-e73b81fbd189"
      },
      "source": [
        "def find_pairs_row_index(table, floyer_device='cshell'):\r\n",
        "    \"\"\"\r\n",
        "    Filter table with paired polar and floyer devices\r\n",
        "    \"\"\"\r\n",
        "    paired_table = table[table.device.isin(['polar', floyer_device])]\r\n",
        "    \r\n",
        "    paired_idx_lst = []\r\n",
        "    # find paried sample ids\r\n",
        "    for person in list(paired_table['person'].unique()):\r\n",
        "        person_paired_table = paired_table[paired_table.person == person]\r\n",
        "        polar_idx_lst = person_paired_table[person_paired_table.device == 'polar'].index\r\n",
        "        floyer_idx_lst = person_paired_table[person_paired_table.device == floyer_device].index\r\n",
        "\r\n",
        "        # find pairs by checking the overlapping time (2*O(n^2))\r\n",
        "        for polar_idx in polar_idx_lst:\r\n",
        "            polar_start_time = person_paired_table.when.loc[polar_idx]\r\n",
        "            polar_end_time = person_paired_table.end.loc[polar_idx]\r\n",
        "\r\n",
        "            for floyer_idx in floyer_idx_lst:\r\n",
        "                floyer_start_time = person_paired_table.when.loc[floyer_idx]\r\n",
        "                floyer_end_time = person_paired_table.end.loc[floyer_idx]\r\n",
        "                \r\n",
        "                if floyer_start_time >= polar_end_time or polar_start_time >= floyer_end_time:\r\n",
        "                    continue\r\n",
        "                else:\r\n",
        "                    paired_idx_lst.append([polar_idx, floyer_idx])\r\n",
        "    \r\n",
        "    return paired_idx_lst\r\n",
        "\r\n",
        "paired_idx_lst = find_pairs_row_index(table, floyer_device='cshell')\r\n",
        "paired_idx_lst"
      ],
      "execution_count": null,
      "outputs": [
        {
          "output_type": "execute_result",
          "data": {
            "text/plain": [
              "[[100, 101],\n",
              " [104, 106],\n",
              " [117, 116],\n",
              " [120, 121],\n",
              " [126, 124],\n",
              " [130, 128],\n",
              " [142, 141],\n",
              " [144, 146],\n",
              " [148, 150],\n",
              " [160, 162]]"
            ]
          },
          "metadata": {
            "tags": []
          },
          "execution_count": 22
        }
      ]
    },
    {
      "cell_type": "code",
      "metadata": {
        "id": "AAfUe0gt6-Yc",
        "colab": {
          "base_uri": "https://localhost:8080/"
        },
        "outputId": "bac2db26-5a52-4757-ab69-af2aec94f4e2"
      },
      "source": [
        "def generate_paired_samples(paired_idx_lst, table, hr_algo_version):\r\n",
        "    \"\"\"\r\n",
        "    Use the index of paired devices (output from find_pairs_row_index) to generate\r\n",
        "    a list of PairedSample instances\r\n",
        "\r\n",
        "    params:\r\n",
        "    paired_idx_lst: a list containing the row index of paired devices, \r\n",
        "                    It is the output of function find_pairs_row_index.\r\n",
        "    table: a Pandas dataframe that stores test infomation, it is the output of the\r\n",
        "           correct_label() \r\n",
        "\r\n",
        "    outputs:\r\n",
        "    A list of PairedSample instances\r\n",
        "    \"\"\"\r\n",
        "    paired_sample_lst = []\r\n",
        "    for polar_idx, floyer_idx in paired_idx_lst:\r\n",
        "        polar_hash_id = table['df id'].loc[polar_idx]\r\n",
        "        floyer_hash_id = table['df id'].loc[floyer_idx]\r\n",
        "        paired_sample_lst.append(PairedSample(polar_hash_id, floyer_hash_id, hr_algo_version))\r\n",
        "    return paired_sample_lst\r\n",
        "\r\n",
        "paired_sample_lst = generate_paired_samples(paired_idx_lst, table, 'v0')\r\n",
        "# save the paried sample list to save time on next run\r\n",
        "with open(\"C:/Users/57lzhang.US04WW4008/PycharmProjects/cosinuss/paired_sample.pkl\", \"wb\") as fp:\r\n",
        "    pickle.dump(paired_sample_lst, fp)"
      ],
      "execution_count": null,
      "outputs": [
        {
          "output_type": "stream",
          "text": [
            "2021-03-01 15:24:25 -  INFO -     api_db_sync: 429 - Data file 1C2RATHBVH.C4CDEZ completely downloaded + database_entries: Scope, Config, Projects (4), Receivers (3), Persons (27), Devices (4)User (6), \n",
            "2021-03-01 15:25:11 -  INFO -     api_db_sync: 429 - Data file 1C2RATHBVH.38CD8K completely downloaded + database_entries: Scope, Config, Projects (4), Receivers (3), Persons (27), Devices (4)User (6), \n",
            "2021-03-01 15:25:14 -  INFO -     api_db_sync: 429 - Data file 1C2RATHBVH.XCMFW1 completely downloaded + database_entries: Scope, Config, Projects (4), Receivers (3), Persons (27), Devices (4)User (6), \n",
            "2021-03-01 15:25:57 -  INFO -     api_db_sync: 429 - Data file 1C2RATHBVH.G2HHR3 completely downloaded + database_entries: Scope, Config, Projects (4), Receivers (3), Persons (27), Devices (4)User (6), \n",
            "2021-03-01 15:26:01 -  INFO -     api_db_sync: 429 - Data file 1C2RATHBVH.2UJU2G completely downloaded + database_entries: Scope, Config, Projects (4), Receivers (3), Persons (27), Devices (4)User (6), \n",
            "2021-03-01 15:26:53 -  INFO -     api_db_sync: 429 - Data file 1C2RATHBVH.009DDE completely downloaded + database_entries: Scope, Config, Projects (4), Receivers (3), Persons (27), Devices (4)User (6), \n",
            "2021-03-01 15:26:55 -  INFO -     api_db_sync: 429 - Data file 1C2RATHBVH.58DZ5Z completely downloaded + database_entries: Scope, Config, Projects (4), Receivers (3), Persons (27), Devices (4)User (6), \n",
            "2021-03-01 15:28:00 -  INFO -     api_db_sync: 429 - Data file 1C2RATHBVH.V5BXYZ completely downloaded + database_entries: Scope, Config, Projects (4), Receivers (3), Persons (27), Devices (4)User (6), \n",
            "2021-03-01 15:28:03 -  INFO -     api_db_sync: 429 - Data file 1C2RATHBVH.60SWCR completely downloaded + database_entries: Scope, Config, Projects (4), Receivers (3), Persons (27), Devices (4)User (6), \n",
            "2021-03-01 15:29:16 -  INFO -     api_db_sync: 429 - Data file 1C2RATHBVH.C0KF6Y completely downloaded + database_entries: Scope, Config, Projects (4), Receivers (3), Persons (27), Devices (4)User (6), \n",
            "2021-03-01 15:29:19 -  INFO -     api_db_sync: 429 - Data file 1C2RATHBVH.4NGWZ3 completely downloaded + database_entries: Scope, Config, Projects (4), Receivers (3), Persons (27), Devices (4)User (6), \n",
            "2021-03-01 15:30:07 -  INFO -     api_db_sync: 429 - Data file 1C2RATHBVH.DYPFM1 completely downloaded + database_entries: Scope, Config, Projects (4), Receivers (3), Persons (27), Devices (4)User (6), \n",
            "2021-03-01 15:30:10 -  INFO -     api_db_sync: 429 - Data file 1C2RATHBVH.QNW02T completely downloaded + database_entries: Scope, Config, Projects (4), Receivers (3), Persons (27), Devices (4)User (6), \n",
            "2021-03-01 15:30:49 -  INFO -     api_db_sync: 429 - Data file 1C2RATHBVH.JYKU22 completely downloaded + database_entries: Scope, Config, Projects (4), Receivers (3), Persons (27), Devices (4)User (6), \n",
            "2021-03-01 15:30:52 -  INFO -     api_db_sync: 429 - Data file 1C2RATHBVH.08ZUGQ completely downloaded + database_entries: Scope, Config, Projects (4), Receivers (3), Persons (27), Devices (4)User (6), \n",
            "2021-03-01 15:31:22 -  INFO -     api_db_sync: 429 - Data file 1C2RATHBVH.N74KKE completely downloaded + database_entries: Scope, Config, Projects (4), Receivers (3), Persons (27), Devices (4)User (6), \n",
            "2021-03-01 15:31:26 -  INFO -     api_db_sync: 429 - Data file 1C2RATHBVH.GND7BQ completely downloaded + database_entries: Scope, Config, Projects (4), Receivers (3), Persons (27), Devices (4)User (6), \n",
            "2021-03-01 15:31:56 -  INFO -     api_db_sync: 429 - Data file 1C2RATHBVH.2E4QXX completely downloaded + database_entries: Scope, Config, Projects (4), Receivers (3), Persons (27), Devices (4)User (6), \n",
            "2021-03-01 15:31:59 -  INFO -     api_db_sync: 429 - Data file 1C2RATHBVH.ZBY97Y completely downloaded + database_entries: Scope, Config, Projects (4), Receivers (3), Persons (27), Devices (4)User (6), \n",
            "2021-03-01 15:32:36 -  INFO -     api_db_sync: 429 - Data file 1C2RATHBVH.8HL047 completely downloaded + database_entries: Scope, Config, Projects (4), Receivers (3), Persons (27), Devices (4)User (6), \n"
          ],
          "name": "stderr"
        }
      ]
    },
    {
      "cell_type": "code",
      "metadata": {
        "id": "NFT24cesFnOr"
      },
      "source": [
        "with open(\"C:/Users/57lzhang.US04WW4008/PycharmProjects/cosinuss/paired_sample.pkl\", \"rb\") as fp:\r\n",
        "    paired_sample_lst = pickle.load(fp)"
      ],
      "execution_count": null,
      "outputs": []
    },
    {
      "cell_type": "markdown",
      "metadata": {
        "id": "1Cuc93RnZfeZ"
      },
      "source": [
        "##Continue here"
      ]
    },
    {
      "cell_type": "code",
      "metadata": {
        "id": "HvK2-jr-rpwh"
      },
      "source": [
        "cshell = api.one3_hr_algo('v0', '1C2RATHBVH.LBYCML')\r\n",
        "cs_hr_x = np.asarray(cshell['heart_rate_t'])\r\n",
        "cs_hr_y = cshell['heart_rate']\r\n",
        "cd_q = cshell['quality']\r\n",
        "plt.plot(cs_hr_x, cs_hr_y)"
      ],
      "execution_count": null,
      "outputs": []
    },
    {
      "cell_type": "markdown",
      "metadata": {
        "id": "yr1ZdxwuVgZm"
      },
      "source": [
        "##process the df"
      ]
    },
    {
      "cell_type": "code",
      "metadata": {
        "id": "WSHPMlwNGEmO"
      },
      "source": [
        "paired_sample = paired_sample_lst[1]\r\n",
        "\r\n",
        "floyer = api.one3_hr_algo(paired_sample.hr_algo_version, paired_sample.floyer_hash_id)\r\n",
        "floyer_hr_x = np.asarray(floyer['heart_rate_t'])\r\n",
        "floyer_hr_y = floyer['heart_rate']"
      ],
      "execution_count": null,
      "outputs": []
    },
    {
      "cell_type": "code",
      "metadata": {
        "id": "6rfcTckSTnAH"
      },
      "source": [
        "polar = DataFile.objects(_hash_id=paired_sample.polar_hash_id).first()\r\n",
        "polar_hr_x = polar.c.heart_rate.x\r\n",
        "polar_hr_y = polar.c.heart_rate.y"
      ],
      "execution_count": null,
      "outputs": []
    },
    {
      "cell_type": "code",
      "metadata": {
        "id": "ybWfJncjGPHY",
        "colab": {
          "base_uri": "https://localhost:8080/"
        },
        "outputId": "18bae632-7377-4f81-e183-ecae09534af0"
      },
      "source": [
        "paired_sample.header_floyer.date_time_start"
      ],
      "execution_count": null,
      "outputs": [
        {
          "output_type": "execute_result",
          "data": {
            "text/plain": [
              "datetime.datetime(2021, 2, 8, 15, 23, 15, 471000, tzinfo=<DstTzInfo 'Europe/Berlin' CET+1:00:00 STD>)"
            ]
          },
          "metadata": {
            "tags": []
          },
          "execution_count": 168
        }
      ]
    },
    {
      "cell_type": "code",
      "metadata": {
        "id": "c-O3aIugKejR",
        "colab": {
          "base_uri": "https://localhost:8080/"
        },
        "outputId": "f33b9ed4-b6e2-457f-c90e-7ecd1000d006"
      },
      "source": [
        "paired_sample.header_polar.date_time_start"
      ],
      "execution_count": null,
      "outputs": [
        {
          "output_type": "execute_result",
          "data": {
            "text/plain": [
              "datetime.datetime(2021, 2, 8, 15, 23, 0, 73000, tzinfo=<DstTzInfo 'Europe/Berlin' CET+1:00:00 STD>)"
            ]
          },
          "metadata": {
            "tags": []
          },
          "execution_count": 169
        }
      ]
    },
    {
      "cell_type": "code",
      "metadata": {
        "id": "tyOY3E9hN300",
        "colab": {
          "base_uri": "https://localhost:8080/"
        },
        "outputId": "a98d87b0-9749-4778-f681-5cc58788344e"
      },
      "source": [
        "paired_sample.header_polar"
      ],
      "execution_count": null,
      "outputs": [
        {
          "output_type": "execute_result",
          "data": {
            "text/plain": [
              "<DataFile: DataFile(_hash_id=1C2RATHBVH.XCMFW1, date_time_start=2021-02-08 15:23:00.073000+01:00, duration=2074.36, columns=1, slices=2, samples=2073, file_size=8.1 KB)>"
            ]
          },
          "metadata": {
            "tags": []
          },
          "execution_count": 174
        }
      ]
    },
    {
      "cell_type": "code",
      "metadata": {
        "id": "uCegtg0TN99g",
        "colab": {
          "base_uri": "https://localhost:8080/"
        },
        "outputId": "78cf1832-03f9-40ea-b0a8-f81a3f337a7c"
      },
      "source": [
        "paired_sample.header_floyer"
      ],
      "execution_count": null,
      "outputs": [
        {
          "output_type": "execute_result",
          "data": {
            "text/plain": [
              "<DataFile: DataFile(_hash_id=1C2RATHBVH.G2HHR3, date_time_start=2021-02-08 15:23:15.471000+01:00, duration=2061.51, columns=8, slices=10, samples=1639344, file_size=4.2 MB)>"
            ]
          },
          "metadata": {
            "tags": []
          },
          "execution_count": 175
        }
      ]
    },
    {
      "cell_type": "code",
      "metadata": {
        "id": "CIwkZKI3KiN1",
        "colab": {
          "base_uri": "https://localhost:8080/"
        },
        "outputId": "bad1b208-ed4d-4a32-9cc7-f1d16c8279de"
      },
      "source": [
        "len(floyer_hr_x)"
      ],
      "execution_count": null,
      "outputs": [
        {
          "output_type": "execute_result",
          "data": {
            "text/plain": [
              "2043"
            ]
          },
          "metadata": {
            "tags": []
          },
          "execution_count": 176
        }
      ]
    },
    {
      "cell_type": "code",
      "metadata": {
        "id": "YLxCNPvqOXi7",
        "colab": {
          "base_uri": "https://localhost:8080/"
        },
        "outputId": "623706fb-9ec6-4ee0-c635-bbc6a21a217d"
      },
      "source": [
        "len(polar_hr_x)"
      ],
      "execution_count": null,
      "outputs": [
        {
          "output_type": "execute_result",
          "data": {
            "text/plain": [
              "2073"
            ]
          },
          "metadata": {
            "tags": []
          },
          "execution_count": 181
        }
      ]
    },
    {
      "cell_type": "code",
      "metadata": {
        "id": "UeNvZLyrKkhs",
        "colab": {
          "base_uri": "https://localhost:8080/"
        },
        "outputId": "83b09e48-5846-4af7-a07d-b529e58f9b3b"
      },
      "source": [
        "np.all(np.diff(floyer_hr_x) == 1)"
      ],
      "execution_count": null,
      "outputs": [
        {
          "output_type": "execute_result",
          "data": {
            "text/plain": [
              "True"
            ]
          },
          "metadata": {
            "tags": []
          },
          "execution_count": 171
        }
      ]
    },
    {
      "cell_type": "code",
      "metadata": {
        "id": "cZ_8l29yLCEC"
      },
      "source": [
        "int_polar = [int(i) for i in polar_hr_x]"
      ],
      "execution_count": null,
      "outputs": []
    },
    {
      "cell_type": "code",
      "metadata": {
        "id": "ws3vhAQMMA4Z",
        "colab": {
          "base_uri": "https://localhost:8080/"
        },
        "outputId": "ef082fb2-98cf-4a8f-c09b-8b56e938b98e"
      },
      "source": [
        "len(int_polar)"
      ],
      "execution_count": null,
      "outputs": [
        {
          "output_type": "execute_result",
          "data": {
            "text/plain": [
              "2087"
            ]
          },
          "metadata": {
            "tags": []
          },
          "execution_count": 162
        }
      ]
    },
    {
      "cell_type": "code",
      "metadata": {
        "id": "Nrqa2wCSMCkQ",
        "colab": {
          "base_uri": "https://localhost:8080/"
        },
        "outputId": "857f0534-5662-4088-d3d0-a7940ec3b169"
      },
      "source": [
        "np.all(np.diff(int_polar) == 1)"
      ],
      "execution_count": null,
      "outputs": [
        {
          "output_type": "execute_result",
          "data": {
            "text/plain": [
              "False"
            ]
          },
          "metadata": {
            "tags": []
          },
          "execution_count": 173
        }
      ]
    },
    {
      "cell_type": "code",
      "metadata": {
        "id": "v79-cXZ2UDkT"
      },
      "source": [
        "offset = (paired_sample.header_floyer.date_time_start - \r\n",
        "          paired_sample.header_polar.date_time_start).total_seconds()"
      ],
      "execution_count": null,
      "outputs": []
    },
    {
      "cell_type": "code",
      "metadata": {
        "id": "q533dQ2uKKjo",
        "colab": {
          "base_uri": "https://localhost:8080/"
        },
        "outputId": "279a1a5a-986a-417e-cbba-f111e42f6eca"
      },
      "source": [
        "offset"
      ],
      "execution_count": null,
      "outputs": [
        {
          "output_type": "execute_result",
          "data": {
            "text/plain": [
              "15.398"
            ]
          },
          "metadata": {
            "tags": []
          },
          "execution_count": 180
        }
      ]
    },
    {
      "cell_type": "code",
      "metadata": {
        "id": "LjQAv-wiWjFw",
        "colab": {
          "base_uri": "https://localhost:8080/"
        },
        "outputId": "52922bd2-bd3a-4ee0-acbd-8d9e7111ef64"
      },
      "source": [
        "test_start_time = max(paired_sample.header_floyer.date_time_start, paired_sample.header_polar.date_time_start)\r\n",
        "test_end_time = "
      ],
      "execution_count": null,
      "outputs": [
        {
          "output_type": "execute_result",
          "data": {
            "text/plain": [
              "datetime.datetime(2021, 2, 8, 15, 23, 15, 471000, tzinfo=<DstTzInfo 'Europe/Berlin' CET+1:00:00 STD>)"
            ]
          },
          "metadata": {
            "tags": []
          },
          "execution_count": 183
        }
      ]
    },
    {
      "cell_type": "code",
      "metadata": {
        "id": "Am3cyEPnZB_l"
      },
      "source": [
        "class PairedSample:\r\n",
        "    \r\n",
        "    def __init__(self, polar_hash_id, floyer_hash_id, hr_algo_version):\r\n",
        "        self.polar_hash_id = polar_hash_id\r\n",
        "        self.floyer_hash_id = floyer_hash_id\r\n",
        "        # header\r\n",
        "        self.header_polar = api.pull_df(polar_hash_id)\r\n",
        "        self.header_floyer = api.pull_df(floyer_hash_id)\r\n",
        "        self.hr_algo_version = hr_algo_version\r\n",
        "    \r\n",
        "    def process(self):\r\n",
        "        # calculate floyer heart rate\r\n",
        "        df_floyer = api.one3_hr_algo(self.hr_algo_version, self.floyer_hash_id)\r\n",
        "        floyer_hr_x = np.asarray(floyer['heart_rate_t'])\r\n",
        "        floyer_hr_y = floyer['heart_rate']\r\n",
        "\r\n",
        "        # get polar heart rate\r\n",
        "        df_polar = DataFile.objects(_hash_id=paired_sample.polar_hash_id).first()\r\n",
        "        po_hr_x = self.df_polar.c.heart_rate.x\r\n",
        "        po_hr_y = self.df_polar.c.heart_rate.y\r\n",
        "\r\n",
        "        # calculate offsets (i.e. floyer and polar maynot start recording at the\r\n",
        "        # same time)\r\n",
        "        offset = (df_cshell.date_time_start - \r\n",
        "                  df_polar.date_time_start).total_seconds() + 2098\r\n",
        "        # make sure two devices start at the same time\r\n",
        "        po_hr_x = po_hr_x[offset:]\r\n",
        "        po_hr_y = po_hr_y[offset:]\r\n",
        "\r\n",
        "        # create a new dataframe with three columns: time (s), p_hr, f_hr\r\n",
        "        \r\n",
        "\r\n",
        "\r\n",
        "        self.mape = self.mape() \r\n",
        "        self.icc = self.icc()\r\n",
        "        self.da = self.da()\r\n",
        "\r\n",
        "    def mape(self):\r\n",
        "        \r\n",
        "        return mape\r\n",
        "        \r\n",
        "    def icc(self):\r\n",
        "\r\n",
        "        return icc\r\n",
        "    \r\n",
        "    def da(self):\r\n",
        "        return da\r\n",
        "\r\n",
        "    def line_plot(self):\r\n",
        "        return \r\n",
        "        \r\n",
        "\r\n",
        "    def ba_plot(self):\r\n",
        "        return"
      ],
      "execution_count": null,
      "outputs": []
    },
    {
      "cell_type": "code",
      "metadata": {
        "colab": {
          "base_uri": "https://localhost:8080/",
          "height": 238
        },
        "id": "3gTyksivWu2p",
        "outputId": "256564f9-1746-4b8e-a473-ba4586131c0c"
      },
      "source": [
        "#import polar data\r\n",
        "df_polar = api.pull_df('003RN9.36G4ZN')\r\n",
        "\r\n",
        "df_polar = DataFile.objects(_hash_id='003RN9.36G4ZN').first()\r\n",
        "po_hr_x = df_polar.c.heart_rate.x\r\n",
        "po_hr_y = df_polar.c.heart_rate.y\r\n",
        "offset = (df_cshell.date_time_start - \r\n",
        "          df_polar.date_time_start).total_seconds() + 2098"
      ],
      "execution_count": null,
      "outputs": [
        {
          "output_type": "stream",
          "text": [
            "2021-03-01 10:16:30 -  INFO -     api_db_sync: 429 - Data file 003RN9.36G4ZN completely downloaded + database_entries: Scope, Config, Projects (4), Receivers (3), Persons (27), Devices (4)User (6), \n"
          ],
          "name": "stderr"
        },
        {
          "output_type": "error",
          "ename": "NameError",
          "evalue": "ignored",
          "traceback": [
            "\u001b[1;31m---------------------------------------------------------------------------\u001b[0m",
            "\u001b[1;31mNameError\u001b[0m                                 Traceback (most recent call last)",
            "\u001b[1;32m<ipython-input-42-8869f23858fc>\u001b[0m in \u001b[0;36m<module>\u001b[1;34m\u001b[0m\n\u001b[0;32m      5\u001b[0m \u001b[0mpo_hr_x\u001b[0m \u001b[1;33m=\u001b[0m \u001b[0mdf_polar\u001b[0m\u001b[1;33m.\u001b[0m\u001b[0mc\u001b[0m\u001b[1;33m.\u001b[0m\u001b[0mheart_rate\u001b[0m\u001b[1;33m.\u001b[0m\u001b[0mx\u001b[0m\u001b[1;33m\u001b[0m\u001b[1;33m\u001b[0m\u001b[0m\n\u001b[0;32m      6\u001b[0m \u001b[0mpo_hr_y\u001b[0m \u001b[1;33m=\u001b[0m \u001b[0mdf_polar\u001b[0m\u001b[1;33m.\u001b[0m\u001b[0mc\u001b[0m\u001b[1;33m.\u001b[0m\u001b[0mheart_rate\u001b[0m\u001b[1;33m.\u001b[0m\u001b[0my\u001b[0m\u001b[1;33m\u001b[0m\u001b[1;33m\u001b[0m\u001b[0m\n\u001b[1;32m----> 7\u001b[1;33m offset = (df_cshell.date_time_start - \n\u001b[0m\u001b[0;32m      8\u001b[0m           df_polar.date_time_start).total_seconds() + 2098\n",
            "\u001b[1;31mNameError\u001b[0m: name 'df_cshell' is not defined"
          ]
        }
      ]
    },
    {
      "cell_type": "code",
      "metadata": {
        "id": "y6DHvetBAXqI",
        "colab": {
          "base_uri": "https://localhost:8080/"
        },
        "outputId": "90df3c5e-b91b-43ad-8f02-52dde0f16cb2"
      },
      "source": [
        "df_polar = api.pull_df('003RN9.36G4ZN')\r\n"
      ],
      "execution_count": null,
      "outputs": [
        {
          "output_type": "stream",
          "text": [
            "2021-03-01 10:17:20 -  INFO -     api_db_sync: 429 - Data file 003RN9.36G4ZN completely downloaded + database_entries: Scope, Config, Projects (4), Receivers (3), Persons (27), Devices (4)User (6), \n"
          ],
          "name": "stderr"
        }
      ]
    },
    {
      "cell_type": "code",
      "metadata": {
        "id": "0i6KJYfcbA8a"
      },
      "source": [
        "# extract win from data dx (time) and dy (values) of equidistant x_step, but limit from time range x_start to x_end\r\n",
        "def extract_win(dx, dy, x_step, x_start=None, x_end=None, mean='median'):\r\n",
        "    # if x_start and x_stop not defined take the whole input data\r\n",
        "    if x_start is None:\r\n",
        "        x_start = dx[0]\r\n",
        "    if x_end is None:\r\n",
        "        x_end = dx[-1]\r\n",
        "\r\n",
        "    # x and y data windows\r\n",
        "    wx = []\r\n",
        "    wy = []\r\n",
        "\r\n",
        "    i = 0\r\n",
        "    x = x_start\r\n",
        "    # loop the data\r\n",
        "    while True:\r\n",
        "        y_tmp = []\r\n",
        "        # loop in one window\r\n",
        "        while True:\r\n",
        "            if i >= len(dx) or dx[i] >= x + x_step:\r\n",
        "                break\r\n",
        "            elif dx[i] < x:\r\n",
        "                i += 1\r\n",
        "            elif dx[i] < x + x_step and dx[i] >= x:\r\n",
        "                y_tmp.append(dy[i])\r\n",
        "                i += 1\r\n",
        "        wx.append(x)\r\n",
        "        if y_tmp:\r\n",
        "            if mean == 'median':\r\n",
        "                wy.append(np.median(y_tmp))\r\n",
        "            elif mean == 'mean':\r\n",
        "                wy.append(np.mean(y_tmp))\r\n",
        "            elif mean == 'max':\r\n",
        "                wy.append(np.max(y_tmp))\r\n",
        "        else:\r\n",
        "            wy.append(np.nan)\r\n",
        "        x += x_step\r\n",
        "        # stop at the very end\r\n",
        "        if x > x_end:\r\n",
        "            break\r\n",
        "\r\n",
        "    return wx, wy"
      ],
      "execution_count": null,
      "outputs": []
    },
    {
      "cell_type": "code",
      "metadata": {
        "id": "UDATLnbpruZT"
      },
      "source": [
        "polar_hr_x_w, polar_hr_y_w = extract_win(polar_hr_x, polar_hr_x, 6, x_start=x_start, x_end=x_end, mean='median')\r\n",
        "\r\n",
        "offset = int(polar_start_time - floyer_start_time)\r\n",
        "\r\n",
        "# if polar started later\r\n",
        "if offset >= 0: \r\n",
        "    x_start = floyer_hr_x + offset\r\n",
        "    floyer_hr_x_w = floyer_hr_x[offset:]\r\n",
        "    floyer_hr_y_w = floyer_hr_y[offset:]\r\n",
        "    polar_hr_x_w = polar_hr_x_w\r\n",
        "    polar_hr_y_w = polar_hr_y_w\r\n",
        "\r\n",
        "# if floyer started later:\r\n",
        "if offset < 0:\r\n",
        "    x_start = floyer_hr_x\r\n",
        "    floyer_hr_x_w = floyer_hr_x\r\n",
        "    floyer_hr_y_w = floyer_hr_y\r\n",
        "    polar_hr_x_w = polar_hr_x_w[offset:]\r\n",
        "    polar_hr_y_w = polar_hr_y_w[offset:]\r\n",
        "    \r\n"
      ],
      "execution_count": null,
      "outputs": []
    }
  ]
}