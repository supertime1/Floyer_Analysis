{
  "nbformat": 4,
  "nbformat_minor": 0,
  "metadata": {
    "colab": {
      "name": "Cosinuss.ipynb",
      "provenance": [],
      "collapsed_sections": [],
      "authorship_tag": "ABX9TyMJe+/HmQZZyuprquPimYts",
      "include_colab_link": true
    },
    "kernelspec": {
      "name": "python3",
      "display_name": "Python 3"
    }
  },
  "cells": [
    {
      "cell_type": "markdown",
      "metadata": {
        "id": "view-in-github",
        "colab_type": "text"
      },
      "source": [
        "<a href=\"https://colab.research.google.com/github/supertime1/Floyer_Analysis/blob/main/Cosinuss.ipynb\" target=\"_parent\"><img src=\"https://colab.research.google.com/assets/colab-badge.svg\" alt=\"Open In Colab\"/></a>"
      ]
    },
    {
      "cell_type": "markdown",
      "metadata": {
        "id": "UUCjV4YaSzpT"
      },
      "source": [
        "#1. Set up dependency"
      ]
    },
    {
      "cell_type": "code",
      "metadata": {
        "id": "X_NhMO3JRJC0"
      },
      "source": [
        "import sys\r\n",
        "sys.path.append('C:/Users/57lzhang.US04WW4008/PycharmProjects/cosinuss')"
      ],
      "execution_count": 1,
      "outputs": []
    },
    {
      "cell_type": "code",
      "metadata": {
        "id": "buQcxbm5RvZd",
        "colab": {
          "base_uri": "https://localhost:8080/"
        },
        "outputId": "3e232b2d-120b-438d-f57a-8ab8bccffb76"
      },
      "source": [
        "from data_container import config, DataFile\r\n",
        "from data_container.api_db_sync import DBSync\r\n",
        "import matplotlib.pyplot as plt\r\n",
        "import numpy as np\r\n",
        "import pandas as pd\r\n",
        "import datetime\r\n",
        "import pickle\r\n",
        "import seaborn as sns\r\n",
        "from utils import util"
      ],
      "execution_count": 2,
      "outputs": [
        {
          "output_type": "stream",
          "text": [
            "2021-03-09 10:50:44 - DEBUG -       dc_config:  45 - DcConfig initialized\n"
          ],
          "name": "stderr"
        }
      ]
    },
    {
      "cell_type": "markdown",
      "metadata": {
        "id": "Ae-3xQw-S4E9"
      },
      "source": [
        "#2.Connect to Cosinuss Database"
      ]
    },
    {
      "cell_type": "markdown",
      "metadata": {
        "id": "OlPl6rEfprbe"
      },
      "source": [
        "Connect to Cosinuss's database to get the API file handler. **Open redis-server.exe first before running configure_api()** ."
      ]
    },
    {
      "cell_type": "code",
      "metadata": {
        "colab": {
          "base_uri": "https://localhost:8080/"
        },
        "id": "bU7_4mYhR1ou",
        "outputId": "6544d371-8b17-4251-9a7b-2a77fd2dfe1e"
      },
      "source": [
        "# password: teeshau7aiMonoh9ee in case it is needed\r\n",
        "api = util.configure_api('sonova_analysis', 'sonova.fremont.api')"
      ],
      "execution_count": 3,
      "outputs": [
        {
          "output_type": "stream",
          "text": [
            "2021-03-09 10:50:49 -  INFO -       dc_config: 202 - data_path is \"C:\\Users\\57lzhang.US04WW4008\\PycharmProjects\\cosinuss\\data\"\n",
            "2021-03-09 10:50:49 -  INFO -       dc_config: 118 - connect to database \"sonova_analysis\"\n",
            "2021-03-09 10:50:49 -  INFO -       dc_config: 113 - init of data_container successful\n",
            "2021-03-09 10:50:50 -  INFO -       api_login: 241 - login: sonova.fremont.api @ https://telecovid.earconnect.de\n",
            "2021-03-09 10:50:50 -  INFO -       api_login: 253 - successful login, it expires 2021-03-09 22:50:52 expiring in 720.0 min\n"
          ],
          "name": "stderr"
        },
        {
          "output_type": "stream",
          "text": [
            "There are 162 files in local database\n"
          ],
          "name": "stdout"
        }
      ]
    },
    {
      "cell_type": "markdown",
      "metadata": {
        "id": "9SD2uB6APoi2"
      },
      "source": [
        "Generate a table from local local database by filtering the data with date"
      ]
    },
    {
      "cell_type": "code",
      "metadata": {
        "colab": {
          "base_uri": "https://localhost:8080/",
          "height": 215
        },
        "id": "4dKZ65Q_z5b-",
        "outputId": "5da73034-3ca6-42dc-c5b4-c762e2f614ee"
      },
      "source": [
        "table = util.generate_table('2020-12-31', api)\r\n",
        "print('There are', len(table), 'test records')\r\n",
        "table.head()"
      ],
      "execution_count": 4,
      "outputs": [
        {
          "output_type": "stream",
          "text": [
            "There are 62 test records\n"
          ],
          "name": "stdout"
        },
        {
          "output_type": "execute_result",
          "data": {
            "text/plain": [
              "               person                when  device              df id  \\\n",
              "100  M9KH.BZYG (RaHe) 2021-02-08 14:15:09   polar  1C2RATHBVH.C4CDEZ   \n",
              "101  M9KH.BZYG (RaHe) 2021-02-08 14:15:14  cshell  1C2RATHBVH.38CD8K   \n",
              "102  M9KH.BZYG (RaHe) 2021-02-08 14:15:23  cshell  1C2RATHBVH.LEMWKL   \n",
              "103  M9KH.BZYG (RaHe) 2021-02-08 14:15:35  garmin  8QEK89R9B4.NZH5XL   \n",
              "104  M9KH.ME9A (LeLo) 2021-02-08 15:23:00   polar  1C2RATHBVH.XCMFW1   \n",
              "\n",
              "               duration samples                                 cols  \\\n",
              "100 1900-01-01 00:34:48   2.1 K                           heart_rate   \n",
              "101 1900-01-01 00:34:42   1.7 M  ppg_ir, ppg_ir_2, ppg_ir_3, ppg_...   \n",
              "102 1900-01-01 00:34:36   1.7 M  ppg_ir, ppg_ir_2, ppg_ir_3, ppg_...   \n",
              "103 1900-01-01 00:45:27   2.7 K                           heart_rate   \n",
              "104 1900-01-01 00:34:34   2.1 K                           heart_rate   \n",
              "\n",
              "                    end  \n",
              "100 2021-02-08 14:49:57  \n",
              "101 2021-02-08 14:49:56  \n",
              "102 2021-02-08 14:49:59  \n",
              "103 2021-02-08 15:01:02  \n",
              "104 2021-02-08 15:57:34  "
            ],
            "text/html": [
              "<div>\n",
              "<style scoped>\n",
              "    .dataframe tbody tr th:only-of-type {\n",
              "        vertical-align: middle;\n",
              "    }\n",
              "\n",
              "    .dataframe tbody tr th {\n",
              "        vertical-align: top;\n",
              "    }\n",
              "\n",
              "    .dataframe thead th {\n",
              "        text-align: right;\n",
              "    }\n",
              "</style>\n",
              "<table border=\"1\" class=\"dataframe\">\n",
              "  <thead>\n",
              "    <tr style=\"text-align: right;\">\n",
              "      <th></th>\n",
              "      <th>person</th>\n",
              "      <th>when</th>\n",
              "      <th>device</th>\n",
              "      <th>df id</th>\n",
              "      <th>duration</th>\n",
              "      <th>samples</th>\n",
              "      <th>cols</th>\n",
              "      <th>end</th>\n",
              "    </tr>\n",
              "  </thead>\n",
              "  <tbody>\n",
              "    <tr>\n",
              "      <th>100</th>\n",
              "      <td>M9KH.BZYG (RaHe)</td>\n",
              "      <td>2021-02-08 14:15:09</td>\n",
              "      <td>polar</td>\n",
              "      <td>1C2RATHBVH.C4CDEZ</td>\n",
              "      <td>1900-01-01 00:34:48</td>\n",
              "      <td>2.1 K</td>\n",
              "      <td>heart_rate</td>\n",
              "      <td>2021-02-08 14:49:57</td>\n",
              "    </tr>\n",
              "    <tr>\n",
              "      <th>101</th>\n",
              "      <td>M9KH.BZYG (RaHe)</td>\n",
              "      <td>2021-02-08 14:15:14</td>\n",
              "      <td>cshell</td>\n",
              "      <td>1C2RATHBVH.38CD8K</td>\n",
              "      <td>1900-01-01 00:34:42</td>\n",
              "      <td>1.7 M</td>\n",
              "      <td>ppg_ir, ppg_ir_2, ppg_ir_3, ppg_...</td>\n",
              "      <td>2021-02-08 14:49:56</td>\n",
              "    </tr>\n",
              "    <tr>\n",
              "      <th>102</th>\n",
              "      <td>M9KH.BZYG (RaHe)</td>\n",
              "      <td>2021-02-08 14:15:23</td>\n",
              "      <td>cshell</td>\n",
              "      <td>1C2RATHBVH.LEMWKL</td>\n",
              "      <td>1900-01-01 00:34:36</td>\n",
              "      <td>1.7 M</td>\n",
              "      <td>ppg_ir, ppg_ir_2, ppg_ir_3, ppg_...</td>\n",
              "      <td>2021-02-08 14:49:59</td>\n",
              "    </tr>\n",
              "    <tr>\n",
              "      <th>103</th>\n",
              "      <td>M9KH.BZYG (RaHe)</td>\n",
              "      <td>2021-02-08 14:15:35</td>\n",
              "      <td>garmin</td>\n",
              "      <td>8QEK89R9B4.NZH5XL</td>\n",
              "      <td>1900-01-01 00:45:27</td>\n",
              "      <td>2.7 K</td>\n",
              "      <td>heart_rate</td>\n",
              "      <td>2021-02-08 15:01:02</td>\n",
              "    </tr>\n",
              "    <tr>\n",
              "      <th>104</th>\n",
              "      <td>M9KH.ME9A (LeLo)</td>\n",
              "      <td>2021-02-08 15:23:00</td>\n",
              "      <td>polar</td>\n",
              "      <td>1C2RATHBVH.XCMFW1</td>\n",
              "      <td>1900-01-01 00:34:34</td>\n",
              "      <td>2.1 K</td>\n",
              "      <td>heart_rate</td>\n",
              "      <td>2021-02-08 15:57:34</td>\n",
              "    </tr>\n",
              "  </tbody>\n",
              "</table>\n",
              "</div>"
            ]
          },
          "metadata": {
            "tags": []
          },
          "execution_count": 4
        }
      ]
    },
    {
      "cell_type": "markdown",
      "metadata": {
        "id": "W8n_8yJBP8gr"
      },
      "source": [
        "Correct the label of 'cShell' and 'Biometric', in case they were mistakenly entered by Cosinuss"
      ]
    },
    {
      "cell_type": "code",
      "metadata": {
        "id": "Bovy12uwygfx"
      },
      "source": [
        "# slow process, be careful to run it\r\n",
        "correct_table = util.correct_label(table, api)\r\n",
        "\r\n",
        "# save the table after running, so that you don't have to clean the label everytime\r\n",
        "correct_table.to_pickle(\"C:/Users/57lzhang.US04WW4008/PycharmProjects/cosinuss/local_db.pkl\")"
      ],
      "execution_count": null,
      "outputs": []
    },
    {
      "cell_type": "code",
      "metadata": {
        "id": "hu-ikiG5dpaF",
        "outputId": "1dff2e9f-7672-4892-85d0-b785e1294331",
        "colab": {
          "base_uri": "https://localhost:8080/",
          "height": 281
        }
      },
      "source": [
        "#load table from local directory if you've already done the label cleaning once\r\n",
        "correct_table = pd.read_pickle(\"C:/Users/57lzhang.US04WW4008/PycharmProjects/cosinuss/local_db.pkl\")\r\n",
        "correct_table.head()"
      ],
      "execution_count": 5,
      "outputs": [
        {
          "output_type": "execute_result",
          "data": {
            "text/plain": [
              "               person                when     device              df id  \\\n",
              "100  M9KH.BZYG (RaHe) 2021-02-08 14:15:09      polar  1C2RATHBVH.C4CDEZ   \n",
              "101  M9KH.BZYG (RaHe) 2021-02-08 14:15:14     cshell  1C2RATHBVH.38CD8K   \n",
              "102  M9KH.BZYG (RaHe) 2021-02-08 14:15:23  biometric  1C2RATHBVH.LEMWKL   \n",
              "103  M9KH.BZYG (RaHe) 2021-02-08 14:15:35     garmin  8QEK89R9B4.NZH5XL   \n",
              "104  M9KH.ME9A (LeLo) 2021-02-08 15:23:00      polar  1C2RATHBVH.XCMFW1   \n",
              "\n",
              "               duration samples                                 cols  \\\n",
              "100 1900-01-01 00:34:48   2.1 K                           heart_rate   \n",
              "101 1900-01-01 00:34:42   1.7 M  ppg_ir, ppg_ir_2, ppg_ir_3, ppg_...   \n",
              "102 1900-01-01 00:34:36   1.7 M  ppg_ir, ppg_ir_2, ppg_ir_3, ppg_...   \n",
              "103 1900-01-01 00:45:27   2.7 K                           heart_rate   \n",
              "104 1900-01-01 00:34:34   2.1 K                           heart_rate   \n",
              "\n",
              "                    end  \n",
              "100 2021-02-08 14:49:57  \n",
              "101 2021-02-08 14:49:56  \n",
              "102 2021-02-08 14:49:59  \n",
              "103 2021-02-08 15:01:02  \n",
              "104 2021-02-08 15:57:34  "
            ],
            "text/html": [
              "<div>\n",
              "<style scoped>\n",
              "    .dataframe tbody tr th:only-of-type {\n",
              "        vertical-align: middle;\n",
              "    }\n",
              "\n",
              "    .dataframe tbody tr th {\n",
              "        vertical-align: top;\n",
              "    }\n",
              "\n",
              "    .dataframe thead th {\n",
              "        text-align: right;\n",
              "    }\n",
              "</style>\n",
              "<table border=\"1\" class=\"dataframe\">\n",
              "  <thead>\n",
              "    <tr style=\"text-align: right;\">\n",
              "      <th></th>\n",
              "      <th>person</th>\n",
              "      <th>when</th>\n",
              "      <th>device</th>\n",
              "      <th>df id</th>\n",
              "      <th>duration</th>\n",
              "      <th>samples</th>\n",
              "      <th>cols</th>\n",
              "      <th>end</th>\n",
              "    </tr>\n",
              "  </thead>\n",
              "  <tbody>\n",
              "    <tr>\n",
              "      <th>100</th>\n",
              "      <td>M9KH.BZYG (RaHe)</td>\n",
              "      <td>2021-02-08 14:15:09</td>\n",
              "      <td>polar</td>\n",
              "      <td>1C2RATHBVH.C4CDEZ</td>\n",
              "      <td>1900-01-01 00:34:48</td>\n",
              "      <td>2.1 K</td>\n",
              "      <td>heart_rate</td>\n",
              "      <td>2021-02-08 14:49:57</td>\n",
              "    </tr>\n",
              "    <tr>\n",
              "      <th>101</th>\n",
              "      <td>M9KH.BZYG (RaHe)</td>\n",
              "      <td>2021-02-08 14:15:14</td>\n",
              "      <td>cshell</td>\n",
              "      <td>1C2RATHBVH.38CD8K</td>\n",
              "      <td>1900-01-01 00:34:42</td>\n",
              "      <td>1.7 M</td>\n",
              "      <td>ppg_ir, ppg_ir_2, ppg_ir_3, ppg_...</td>\n",
              "      <td>2021-02-08 14:49:56</td>\n",
              "    </tr>\n",
              "    <tr>\n",
              "      <th>102</th>\n",
              "      <td>M9KH.BZYG (RaHe)</td>\n",
              "      <td>2021-02-08 14:15:23</td>\n",
              "      <td>biometric</td>\n",
              "      <td>1C2RATHBVH.LEMWKL</td>\n",
              "      <td>1900-01-01 00:34:36</td>\n",
              "      <td>1.7 M</td>\n",
              "      <td>ppg_ir, ppg_ir_2, ppg_ir_3, ppg_...</td>\n",
              "      <td>2021-02-08 14:49:59</td>\n",
              "    </tr>\n",
              "    <tr>\n",
              "      <th>103</th>\n",
              "      <td>M9KH.BZYG (RaHe)</td>\n",
              "      <td>2021-02-08 14:15:35</td>\n",
              "      <td>garmin</td>\n",
              "      <td>8QEK89R9B4.NZH5XL</td>\n",
              "      <td>1900-01-01 00:45:27</td>\n",
              "      <td>2.7 K</td>\n",
              "      <td>heart_rate</td>\n",
              "      <td>2021-02-08 15:01:02</td>\n",
              "    </tr>\n",
              "    <tr>\n",
              "      <th>104</th>\n",
              "      <td>M9KH.ME9A (LeLo)</td>\n",
              "      <td>2021-02-08 15:23:00</td>\n",
              "      <td>polar</td>\n",
              "      <td>1C2RATHBVH.XCMFW1</td>\n",
              "      <td>1900-01-01 00:34:34</td>\n",
              "      <td>2.1 K</td>\n",
              "      <td>heart_rate</td>\n",
              "      <td>2021-02-08 15:57:34</td>\n",
              "    </tr>\n",
              "  </tbody>\n",
              "</table>\n",
              "</div>"
            ]
          },
          "metadata": {
            "tags": []
          },
          "execution_count": 5
        }
      ]
    },
    {
      "cell_type": "markdown",
      "metadata": {
        "id": "dB7FUpbTQ4y_"
      },
      "source": [
        "Generate a statistic table for data analysis\r\n",
        "\r\n"
      ]
    },
    {
      "cell_type": "code",
      "metadata": {
        "id": "6nSKkqBi1THp",
        "outputId": "725731a1-ad56-459f-cfba-4cc1ce03eefd",
        "colab": {
          "base_uri": "https://localhost:8080/"
        }
      },
      "source": [
        "# find the row indices of paired floyer-polar device \r\n",
        "paired_idx_lst = util.find_pairs_row_index(correct_table, floyer_device='biometric')\r\n",
        "# generate a paired sample class by using the paired row indices; \r\n",
        "# you also need to give the heart rate algorithm version\r\n",
        "paired_sample_lst = util.generate_paired_samples(paired_idx_lst, \r\n",
        "                                                 correct_table, \r\n",
        "                                                 'v0',\r\n",
        "                                                 api)\r\n",
        "# save the paried sample list to save time on next run\r\n",
        "with open(\"C:/Users/57lzhang.US04WW4008/PycharmProjects/cosinuss/paired_sample_biometric.pkl\", \"wb\") as fp:\r\n",
        "    pickle.dump(paired_sample_lst, fp)"
      ],
      "execution_count": 84,
      "outputs": [
        {
          "output_type": "stream",
          "text": [
            "2021-03-09 11:29:26 -  INFO -     api_db_sync: 429 - Data file 1C2RATHBVH.C4CDEZ completely downloaded + database_entries: Scope, Config, Projects (4), Receivers (3), Persons (27), Devices (4)User (6), \n",
            "2021-03-09 11:29:47 -  INFO -     api_db_sync: 429 - Data file 1C2RATHBVH.LEMWKL completely downloaded + database_entries: Scope, Config, Projects (4), Receivers (3), Persons (27), Devices (4)User (6), \n",
            "2021-03-09 11:29:50 -  INFO -     api_db_sync: 429 - Data file 1C2RATHBVH.B6WZ94 completely downloaded + database_entries: Scope, Config, Projects (4), Receivers (3), Persons (27), Devices (4)User (6), \n",
            "2021-03-09 11:30:08 -  INFO -     api_db_sync: 429 - Data file 1C2RATHBVH.FTZLPT completely downloaded + database_entries: Scope, Config, Projects (4), Receivers (3), Persons (27), Devices (4)User (6), \n",
            "2021-03-09 11:30:11 -  INFO -     api_db_sync: 429 - Data file 1C2RATHBVH.B6WZ94 completely downloaded + database_entries: Scope, Config, Projects (4), Receivers (3), Persons (27), Devices (4)User (6), \n",
            "2021-03-09 11:30:29 -  INFO -     api_db_sync: 429 - Data file 1C2RATHBVH.95P86S completely downloaded + database_entries: Scope, Config, Projects (4), Receivers (3), Persons (27), Devices (4)User (6), \n",
            "2021-03-09 11:30:31 -  INFO -     api_db_sync: 429 - Data file 1C2RATHBVH.XCMFW1 completely downloaded + database_entries: Scope, Config, Projects (4), Receivers (3), Persons (27), Devices (4)User (6), \n",
            "2021-03-09 11:30:50 -  INFO -     api_db_sync: 429 - Data file 1C2RATHBVH.C4KKHL completely downloaded + database_entries: Scope, Config, Projects (4), Receivers (3), Persons (27), Devices (4)User (6), \n",
            "2021-03-09 11:30:53 -  INFO -     api_db_sync: 429 - Data file 1C2RATHBVH.2UJU2G completely downloaded + database_entries: Scope, Config, Projects (4), Receivers (3), Persons (27), Devices (4)User (6), \n",
            "2021-03-09 11:31:10 -  INFO -     api_db_sync: 429 - Data file 1C2RATHBVH.DFEWY2 completely downloaded + database_entries: Scope, Config, Projects (4), Receivers (3), Persons (27), Devices (4)User (6), \n",
            "2021-03-09 11:31:12 -  INFO -     api_db_sync: 429 - Data file 1C2RATHBVH.58DZ5Z completely downloaded + database_entries: Scope, Config, Projects (4), Receivers (3), Persons (27), Devices (4)User (6), \n",
            "2021-03-09 11:31:34 -  INFO -     api_db_sync: 429 - Data file 1C2RATHBVH.XYXZQ3 completely downloaded + database_entries: Scope, Config, Projects (4), Receivers (3), Persons (27), Devices (4)User (6), \n",
            "2021-03-09 11:31:37 -  INFO -     api_db_sync: 429 - Data file 1C2RATHBVH.60SWCR completely downloaded + database_entries: Scope, Config, Projects (4), Receivers (3), Persons (27), Devices (4)User (6), \n",
            "2021-03-09 11:31:54 -  INFO -     api_db_sync: 429 - Data file 1C2RATHBVH.LBYCML completely downloaded + database_entries: Scope, Config, Projects (4), Receivers (3), Persons (27), Devices (4)User (6), \n",
            "2021-03-09 11:31:56 -  INFO -     api_db_sync: 429 - Data file 1C2RATHBVH.4NGWZ3 completely downloaded + database_entries: Scope, Config, Projects (4), Receivers (3), Persons (27), Devices (4)User (6), \n",
            "2021-03-09 11:32:14 -  INFO -     api_db_sync: 429 - Data file 1C2RATHBVH.43ENQN completely downloaded + database_entries: Scope, Config, Projects (4), Receivers (3), Persons (27), Devices (4)User (6), \n",
            "2021-03-09 11:32:16 -  INFO -     api_db_sync: 429 - Data file 1C2RATHBVH.UPGEWE completely downloaded + database_entries: Scope, Config, Projects (4), Receivers (3), Persons (27), Devices (4)User (6), \n",
            "2021-03-09 11:32:34 -  INFO -     api_db_sync: 429 - Data file 1C2RATHBVH.1BA6MT completely downloaded + database_entries: Scope, Config, Projects (4), Receivers (3), Persons (27), Devices (4)User (6), \n",
            "2021-03-09 11:32:37 -  INFO -     api_db_sync: 429 - Data file 1C2RATHBVH.UPGEWE completely downloaded + database_entries: Scope, Config, Projects (4), Receivers (3), Persons (27), Devices (4)User (6), \n",
            "2021-03-09 11:32:55 -  INFO -     api_db_sync: 429 - Data file 1C2RATHBVH.J5PHBD completely downloaded + database_entries: Scope, Config, Projects (4), Receivers (3), Persons (27), Devices (4)User (6), \n",
            "2021-03-09 11:32:57 -  INFO -     api_db_sync: 429 - Data file 1C2RATHBVH.9JGKSM completely downloaded + database_entries: Scope, Config, Projects (4), Receivers (3), Persons (27), Devices (4)User (6), \n",
            "2021-03-09 11:33:16 -  INFO -     api_db_sync: 429 - Data file 1C2RATHBVH.F5Q8NY completely downloaded + database_entries: Scope, Config, Projects (4), Receivers (3), Persons (27), Devices (4)User (6), \n",
            "2021-03-09 11:33:18 -  INFO -     api_db_sync: 429 - Data file 1C2RATHBVH.9JGKSM completely downloaded + database_entries: Scope, Config, Projects (4), Receivers (3), Persons (27), Devices (4)User (6), \n",
            "2021-03-09 11:33:36 -  INFO -     api_db_sync: 429 - Data file 1C2RATHBVH.8QGMB1 completely downloaded + database_entries: Scope, Config, Projects (4), Receivers (3), Persons (27), Devices (4)User (6), \n",
            "2021-03-09 11:33:39 -  INFO -     api_db_sync: 429 - Data file 1C2RATHBVH.QNW02T completely downloaded + database_entries: Scope, Config, Projects (4), Receivers (3), Persons (27), Devices (4)User (6), \n",
            "2021-03-09 11:33:56 -  INFO -     api_db_sync: 429 - Data file 1C2RATHBVH.Q390R4 completely downloaded + database_entries: Scope, Config, Projects (4), Receivers (3), Persons (27), Devices (4)User (6), \n",
            "2021-03-09 11:33:59 -  INFO -     api_db_sync: 429 - Data file 1C2RATHBVH.08ZUGQ completely downloaded + database_entries: Scope, Config, Projects (4), Receivers (3), Persons (27), Devices (4)User (6), \n",
            "2021-03-09 11:34:17 -  INFO -     api_db_sync: 429 - Data file 1C2RATHBVH.8VE5T8 completely downloaded + database_entries: Scope, Config, Projects (4), Receivers (3), Persons (27), Devices (4)User (6), \n",
            "2021-03-09 11:34:19 -  INFO -     api_db_sync: 429 - Data file 1C2RATHBVH.GND7BQ completely downloaded + database_entries: Scope, Config, Projects (4), Receivers (3), Persons (27), Devices (4)User (6), \n",
            "2021-03-09 11:34:37 -  INFO -     api_db_sync: 429 - Data file 1C2RATHBVH.9PADC8 completely downloaded + database_entries: Scope, Config, Projects (4), Receivers (3), Persons (27), Devices (4)User (6), \n",
            "2021-03-09 11:34:40 -  INFO -     api_db_sync: 429 - Data file 1C2RATHBVH.NGBH4N completely downloaded + database_entries: Scope, Config, Projects (4), Receivers (3), Persons (27), Devices (4)User (6), \n",
            "2021-03-09 11:35:01 -  INFO -     api_db_sync: 429 - Data file 1C2RATHBVH.K7MU7Y completely downloaded + database_entries: Scope, Config, Projects (4), Receivers (3), Persons (27), Devices (4)User (6), \n",
            "2021-03-09 11:35:04 -  INFO -     api_db_sync: 429 - Data file 1C2RATHBVH.NGBH4N completely downloaded + database_entries: Scope, Config, Projects (4), Receivers (3), Persons (27), Devices (4)User (6), \n",
            "2021-03-09 11:35:22 -  INFO -     api_db_sync: 429 - Data file 1C2RATHBVH.8JCMH7 completely downloaded + database_entries: Scope, Config, Projects (4), Receivers (3), Persons (27), Devices (4)User (6), \n",
            "2021-03-09 11:35:24 -  INFO -     api_db_sync: 429 - Data file 1C2RATHBVH.1GU1TF completely downloaded + database_entries: Scope, Config, Projects (4), Receivers (3), Persons (27), Devices (4)User (6), \n",
            "2021-03-09 11:35:45 -  INFO -     api_db_sync: 429 - Data file 1C2RATHBVH.RPZFS4 completely downloaded + database_entries: Scope, Config, Projects (4), Receivers (3), Persons (27), Devices (4)User (6), \n",
            "2021-03-09 11:35:49 -  INFO -     api_db_sync: 429 - Data file 1C2RATHBVH.1GU1TF completely downloaded + database_entries: Scope, Config, Projects (4), Receivers (3), Persons (27), Devices (4)User (6), \n",
            "2021-03-09 11:36:11 -  INFO -     api_db_sync: 429 - Data file 1C2RATHBVH.2X8J8G completely downloaded + database_entries: Scope, Config, Projects (4), Receivers (3), Persons (27), Devices (4)User (6), \n",
            "2021-03-09 11:36:14 -  INFO -     api_db_sync: 429 - Data file 1C2RATHBVH.ZBY97Y completely downloaded + database_entries: Scope, Config, Projects (4), Receivers (3), Persons (27), Devices (4)User (6), \n",
            "2021-03-09 11:36:32 -  INFO -     api_db_sync: 429 - Data file 1C2RATHBVH.9592E8 completely downloaded + database_entries: Scope, Config, Projects (4), Receivers (3), Persons (27), Devices (4)User (6), \n"
          ],
          "name": "stderr"
        }
      ]
    },
    {
      "cell_type": "code",
      "metadata": {
        "id": "e-zzbQd5VKkn"
      },
      "source": [
        "# load the paired_sample_lst if you've done it previously\r\n",
        "with open(\"C:/Users/57lzhang.US04WW4008/PycharmProjects/cosinuss/paired_sample_biometric.pkl\", \"rb\") as fp:\r\n",
        "    paired_sample_lst = pickle.load(fp)"
      ],
      "execution_count": 85,
      "outputs": []
    },
    {
      "cell_type": "code",
      "metadata": {
        "id": "TXCJuFAcTA2-",
        "outputId": "ba5ca7d2-0034-4348-e870-43c4eb175552",
        "colab": {
          "base_uri": "https://localhost:8080/",
          "height": 197
        }
      },
      "source": [
        "# generate a stats_table for stats analysis\r\n",
        "stats_table = util.generate_stats_table(paired_sample_lst)\r\n",
        "stats_table.head()"
      ],
      "execution_count": 86,
      "outputs": [
        {
          "output_type": "execute_result",
          "data": {
            "text/plain": [
              "   floyer_hr  polar_hr  quality activity     person\n",
              "0          0        67        0  Unknown  M9KH.BZYG\n",
              "1          0        65       24  Unknown  M9KH.BZYG\n",
              "2          0        65       18  Unknown  M9KH.BZYG\n",
              "3          0        64        0  Unknown  M9KH.BZYG\n",
              "4          0        63        5  Unknown  M9KH.BZYG"
            ],
            "text/html": [
              "<div>\n",
              "<style scoped>\n",
              "    .dataframe tbody tr th:only-of-type {\n",
              "        vertical-align: middle;\n",
              "    }\n",
              "\n",
              "    .dataframe tbody tr th {\n",
              "        vertical-align: top;\n",
              "    }\n",
              "\n",
              "    .dataframe thead th {\n",
              "        text-align: right;\n",
              "    }\n",
              "</style>\n",
              "<table border=\"1\" class=\"dataframe\">\n",
              "  <thead>\n",
              "    <tr style=\"text-align: right;\">\n",
              "      <th></th>\n",
              "      <th>floyer_hr</th>\n",
              "      <th>polar_hr</th>\n",
              "      <th>quality</th>\n",
              "      <th>activity</th>\n",
              "      <th>person</th>\n",
              "    </tr>\n",
              "  </thead>\n",
              "  <tbody>\n",
              "    <tr>\n",
              "      <th>0</th>\n",
              "      <td>0</td>\n",
              "      <td>67</td>\n",
              "      <td>0</td>\n",
              "      <td>Unknown</td>\n",
              "      <td>M9KH.BZYG</td>\n",
              "    </tr>\n",
              "    <tr>\n",
              "      <th>1</th>\n",
              "      <td>0</td>\n",
              "      <td>65</td>\n",
              "      <td>24</td>\n",
              "      <td>Unknown</td>\n",
              "      <td>M9KH.BZYG</td>\n",
              "    </tr>\n",
              "    <tr>\n",
              "      <th>2</th>\n",
              "      <td>0</td>\n",
              "      <td>65</td>\n",
              "      <td>18</td>\n",
              "      <td>Unknown</td>\n",
              "      <td>M9KH.BZYG</td>\n",
              "    </tr>\n",
              "    <tr>\n",
              "      <th>3</th>\n",
              "      <td>0</td>\n",
              "      <td>64</td>\n",
              "      <td>0</td>\n",
              "      <td>Unknown</td>\n",
              "      <td>M9KH.BZYG</td>\n",
              "    </tr>\n",
              "    <tr>\n",
              "      <th>4</th>\n",
              "      <td>0</td>\n",
              "      <td>63</td>\n",
              "      <td>5</td>\n",
              "      <td>Unknown</td>\n",
              "      <td>M9KH.BZYG</td>\n",
              "    </tr>\n",
              "  </tbody>\n",
              "</table>\n",
              "</div>"
            ]
          },
          "metadata": {
            "tags": []
          },
          "execution_count": 86
        }
      ]
    },
    {
      "cell_type": "code",
      "metadata": {
        "id": "P0LfjhzHpLzR"
      },
      "source": [
        "with open(\"C:/Users/57lzhang.US04WW4008/PycharmProjects/cosinuss/stats.pkl\", \"wb\") as fp:\r\n",
        "    pickle.dump(stats_table, fp)"
      ],
      "execution_count": 95,
      "outputs": []
    },
    {
      "cell_type": "markdown",
      "metadata": {
        "id": "yr1ZdxwuVgZm"
      },
      "source": [
        "#3. Data Analysis"
      ]
    },
    {
      "cell_type": "code",
      "metadata": {
        "colab": {
          "base_uri": "https://localhost:8080/",
          "height": 197
        },
        "id": "do97O7zT-e3x",
        "outputId": "5f6423d7-72f2-4cba-da2a-5f805aa2f4be"
      },
      "source": [
        "mape_df = util.create_mape_table(stats_table, quality_level=35)\r\n",
        "mape_df.head()"
      ],
      "execution_count": 89,
      "outputs": [
        {
          "output_type": "execute_result",
          "data": {
            "text/plain": [
              "    mape    da                      activity     person\n",
              "0  12.51  33.0         Chewing (chewing gum)  M9KH.3WKY\n",
              "1  15.25  40.0                 Running 6km/h  M9KH.3WKY\n",
              "2   6.41  48.0                 Running 8km/h  M9KH.3WKY\n",
              "3   4.23  90.0                       Sitting  M9KH.3WKY\n",
              "4  20.66  36.0  Sitting - Standing - Sitting  M9KH.3WKY"
            ],
            "text/html": [
              "<div>\n",
              "<style scoped>\n",
              "    .dataframe tbody tr th:only-of-type {\n",
              "        vertical-align: middle;\n",
              "    }\n",
              "\n",
              "    .dataframe tbody tr th {\n",
              "        vertical-align: top;\n",
              "    }\n",
              "\n",
              "    .dataframe thead th {\n",
              "        text-align: right;\n",
              "    }\n",
              "</style>\n",
              "<table border=\"1\" class=\"dataframe\">\n",
              "  <thead>\n",
              "    <tr style=\"text-align: right;\">\n",
              "      <th></th>\n",
              "      <th>mape</th>\n",
              "      <th>da</th>\n",
              "      <th>activity</th>\n",
              "      <th>person</th>\n",
              "    </tr>\n",
              "  </thead>\n",
              "  <tbody>\n",
              "    <tr>\n",
              "      <th>0</th>\n",
              "      <td>12.51</td>\n",
              "      <td>33.0</td>\n",
              "      <td>Chewing (chewing gum)</td>\n",
              "      <td>M9KH.3WKY</td>\n",
              "    </tr>\n",
              "    <tr>\n",
              "      <th>1</th>\n",
              "      <td>15.25</td>\n",
              "      <td>40.0</td>\n",
              "      <td>Running 6km/h</td>\n",
              "      <td>M9KH.3WKY</td>\n",
              "    </tr>\n",
              "    <tr>\n",
              "      <th>2</th>\n",
              "      <td>6.41</td>\n",
              "      <td>48.0</td>\n",
              "      <td>Running 8km/h</td>\n",
              "      <td>M9KH.3WKY</td>\n",
              "    </tr>\n",
              "    <tr>\n",
              "      <th>3</th>\n",
              "      <td>4.23</td>\n",
              "      <td>90.0</td>\n",
              "      <td>Sitting</td>\n",
              "      <td>M9KH.3WKY</td>\n",
              "    </tr>\n",
              "    <tr>\n",
              "      <th>4</th>\n",
              "      <td>20.66</td>\n",
              "      <td>36.0</td>\n",
              "      <td>Sitting - Standing - Sitting</td>\n",
              "      <td>M9KH.3WKY</td>\n",
              "    </tr>\n",
              "  </tbody>\n",
              "</table>\n",
              "</div>"
            ]
          },
          "metadata": {
            "tags": []
          },
          "execution_count": 89
        }
      ]
    },
    {
      "cell_type": "code",
      "metadata": {
        "id": "aqhwGurpP9h2"
      },
      "source": [
        "def plot_mape(mape_df, num_subject, device_type, algo_version, \r\n",
        "              qf_lvl, person_level=False):\r\n",
        "    \"\"\"\r\n",
        "    Make MAPE boxplot\r\n",
        "    \"\"\"\r\n",
        "    if not person_level:\r\n",
        "        fig, ax = plt.subplots(1, 1, figsize=(15,10))\r\n",
        "        ax.set_xticks(np.arange(0,100,10), minor=False)\r\n",
        "        ax.grid(b=True, which='major', color='w', linewidth=2.0)\r\n",
        "        ax.grid(b=True, which='minor', color='w', linewidth=1)\r\n",
        "\r\n",
        "        sns.set_style('darkgrid')\r\n",
        "        g = sns.boxplot(x='mape',\r\n",
        "                        y='activity',\r\n",
        "                        data=mape_df)\r\n",
        "        plt.suptitle('Boxplot of MAPE per Activity', fontsize=20)\r\n",
        "        plt.title(f'Num of Subjects = {num_subject},   Device = {device_type},\\\r\n",
        "   Algo_Version = {algo_version},   QF_lvl = {qf_lvl}', fontsize=16)\r\n",
        "        plt.xticks(fontsize=16)\r\n",
        "        plt.yticks(fontsize=16)\r\n",
        "        plt.xlabel('MAPE', fontsize=20)\r\n",
        "        plt.ylabel('Activity', fontsize=20)\r\n",
        "\r\n",
        "    else:\r\n",
        "        g = sns.FacetGrid(mape_df,\r\n",
        "                          col='person',\r\n",
        "                          col_wrap=1,\r\n",
        "                          height=2,\r\n",
        "                          aspect=5,\r\n",
        "                          hue='activity'\r\n",
        "                          )\r\n",
        "        g = g.map(plt.bar, 'activity', 'mape')\r\n",
        "        axes = g.axes.flatten()\r\n",
        "        person_lst = np.unique(mape_df['person'])\r\n",
        "\r\n",
        "        for i in range(len(axes)):\r\n",
        "            axes[i].set_title(\"Person:  \" + person_lst[i], fontsize=14)\r\n",
        "        g.set_ylabels('MAPE', fontsize=14)\r\n",
        "        g.set_xlabels('Activity', fontsize=14)\r\n",
        "        plt.xticks(rotation=45, fontsize=14)\r\n",
        "        plt.legend(bbox_to_anchor=(1.4, 5))"
      ],
      "execution_count": 90,
      "outputs": []
    },
    {
      "cell_type": "code",
      "metadata": {
        "colab": {
          "base_uri": "https://localhost:8080/",
          "height": 691
        },
        "id": "_K3l6GATZz3a",
        "outputId": "084ee35c-e198-43c2-f1d6-f41eb4a11703"
      },
      "source": [
        "plot_mape(mape_df, '10', 'biometric', 'v0', '35', person_level=False)"
      ],
      "execution_count": 92,
      "outputs": [
        {
          "output_type": "display_data",
          "data": {
            "text/plain": [
              "<Figure size 1080x720 with 1 Axes>"
            ],
            "image/png": "[encoded data removed]"
          },
          "metadata": {
            "tags": []
          }
        }
      ]
    },
    {
      "cell_type": "code",
      "metadata": {
        "id": "h0S5QmCvD-NQ"
      },
      "source": [
        "def plot_da(mape_df, num_subject, device_type, algo_version, \r\n",
        "              qf_lvl, person_level=False):\r\n",
        "    \"\"\"\r\n",
        "    Make MAPE boxplot\r\n",
        "    \"\"\"\r\n",
        "    if not person_level:\r\n",
        "        fig, ax = plt.subplots(1, 1, figsize=(15,10))\r\n",
        "        ax.set_xticks(np.arange(0,100,10), minor=False)\r\n",
        "        ax.grid(b=True, which='major', color='w', linewidth=2.0)\r\n",
        "        ax.grid(b=True, which='minor', color='w', linewidth=1)\r\n",
        "        \r\n",
        "        sns.set_style('darkgrid')\r\n",
        "        g = sns.boxplot(x='da',\r\n",
        "                        y='activity',\r\n",
        "                        data=mape_df)\r\n",
        "        plt.suptitle('Boxplot of Data Availability per Activity', fontsize=20)\r\n",
        "        plt.title(f'Num of Subjects = {num_subject},   Device = {device_type},\\\r\n",
        "   Algo_Version = {algo_version},   QF_lvl = {qf_lvl}', fontsize=16)\r\n",
        "        plt.xticks(fontsize=16)\r\n",
        "        plt.yticks(fontsize=16)\r\n",
        "        plt.xlabel('Data Availability', fontsize=20)\r\n",
        "        plt.ylabel('Activity', fontsize=20)\r\n",
        "\r\n",
        "    else:\r\n",
        "        g = sns.FacetGrid(mape_df,\r\n",
        "                          col='person',\r\n",
        "                          col_wrap=1,\r\n",
        "                          height=2,\r\n",
        "                          aspect=5,\r\n",
        "                          hue='activity'\r\n",
        "                          )\r\n",
        "        g = g.map(plt.bar, 'activity', 'da')\r\n",
        "        axes = g.axes.flatten()\r\n",
        "        person_lst = np.unique(mape_df['person'])\r\n",
        "\r\n",
        "        for i in range(len(axes)):\r\n",
        "            axes[i].set_title(\"Person:  \" + person_lst[i], fontsize=14)\r\n",
        "        g.set_ylabels('DA', fontsize=14)\r\n",
        "        g.set_xlabels('Activity', fontsize=14)\r\n",
        "        plt.xticks(rotation=45, fontsize=14)\r\n",
        "        plt.legend(bbox_to_anchor=(1.4, 5))\r\n",
        "        "
      ],
      "execution_count": 87,
      "outputs": []
    },
    {
      "cell_type": "code",
      "metadata": {
        "colab": {
          "base_uri": "https://localhost:8080/",
          "height": 691
        },
        "id": "hyDGwsyzakoA",
        "outputId": "ae8d33c8-b86c-4253-fb31-80e5a79071de"
      },
      "source": [
        "plot_da(mape_df, '10', 'biometric', 'v0', '35', person_level=False)"
      ],
      "execution_count": 93,
      "outputs": [
        {
          "output_type": "display_data",
          "data": {
            "text/plain": [
              "<Figure size 1080x720 with 1 Axes>"
            ],
            "image/png": "[encoded data removed]"
          },
          "metadata": {
            "tags": []
          }
        }
      ]
    },
    {
      "cell_type": "markdown",
      "metadata": {
        "id": "VwtEezQzb-P1"
      },
      "source": [
        "##Continue Here"
      ]
    },
    {
      "cell_type": "code",
      "metadata": {
        "id": "bjKoC1MBb9wm"
      },
      "source": [
        "#Make statistic table\r\n",
        "def create_overview_table(stats_table, quality_level):\r\n",
        "    \"\"\"\r\n",
        "    Create a table with MAPE for each activity\r\n",
        "    \"\"\"\r\n",
        "    activity_lst = []\r\n",
        "    floyer_mean_lst = []\r\n",
        "    floyer_std_lst = []\r\n",
        "    polar_mean_lst = []\r\n",
        "    polar_std_lst = []\r\n",
        "    bias_mean_lst = []\r\n",
        "    bias_ci_lst = []\r\n",
        "    cor_lst = []\r\n",
        "    mape_lst = []\r\n",
        "    da_lst = []\r\n",
        "\r\n",
        "    def mean_confidence_interval(data, confidence_level=0.95):\r\n",
        "        mean = np.mean(data)\r\n",
        "        std = np.std(data)\r\n",
        "        t = \r\n",
        "\r\n",
        "    for activity in np.unique(stats_table['activity']):\r\n",
        "        if activity == 'Unknown': continue\r\n",
        "        temp_table = stats_table[(stats_table.activity == activity)].reset_index()\r\n",
        "        # calculate mape and da\r\n",
        "        sum = 0\r\n",
        "        count = 0\r\n",
        "        for i in range(len(temp_table)):\r\n",
        "            if quality_level <= temp_table['quality'][i] <= 100:\r\n",
        "                sum += abs(temp_table['floyer_hr'][i] -\r\n",
        "                            temp_table['polar_hr'][i]) / temp_table['polar_hr'][i] * 100\r\n",
        "                count += 1\r\n",
        "        mape = round(sum / count, 2)\r\n",
        "        da = round(count / len(temp_table), 2) * 100  \r\n",
        "        mape_lst.append(mape)\r\n",
        "        da_lst.append(da)\r\n",
        "        # calculate mean and std\r\n",
        "        floyer_mean_lst.append(temp_table['floyer_hr'].mean())\r\n",
        "        polar_mean_lst.append(temp_table['polar_hr'].mean())\r\n",
        "        floyer_std_lst.append(temp_table['floyer_hr'].std())\r\n",
        "        polar_std_lst.append(temp_table['polar_hr'].std())\r\n",
        "        bias_lst.append(np.mean(abs(temp_table['floyer_hr'] - temp_table['polar_hr'])))\r\n",
        "        bias_ci_lst.append()\r\n",
        "        cor_lst.append()\r\n",
        "        \r\n",
        "        \r\n",
        "\r\n",
        "\r\n",
        "        activity_lst.append(activity)\r\n",
        "\r\n",
        "        \r\n",
        "\r\n",
        "    dic = {'mape': mape_lst,\r\n",
        "           'da': da_lst,\r\n",
        "           'activity': activity_lst,\r\n",
        "           'person': person_lst\r\n",
        "           }\r\n",
        "        \r\n",
        "    df = pd.DataFrame(data=dic, index=None)\r\n",
        "    return df\r\n",
        "\r\n",
        "mape_df = create_mape_table(stats_table, quality_level=35)\r\n",
        "mape_df"
      ],
      "execution_count": null,
      "outputs": []
    },
    {
      "cell_type": "markdown",
      "metadata": {
        "id": "ChSqHMuyCICG"
      },
      "source": [
        "Make a DA vs MAPE"
      ]
    },
    {
      "cell_type": "code",
      "metadata": {
        "id": "YoTUq41hCHIk",
        "outputId": "672767f5-02d7-4536-8751-4643d96d4f2f",
        "colab": {
          "base_uri": "https://localhost:8080/"
        }
      },
      "source": [
        "stats_table['quality']"
      ],
      "execution_count": 94,
      "outputs": [
        {
          "output_type": "execute_result",
          "data": {
            "text/plain": [
              "0        0\n",
              "1       24\n",
              "2       18\n",
              "3        0\n",
              "4        5\n",
              "        ..\n",
              "2079    94\n",
              "2080    80\n",
              "2081    57\n",
              "2082    62\n",
              "2083    64\n",
              "Name: quality, Length: 41326, dtype: int64"
            ]
          },
          "metadata": {
            "tags": []
          },
          "execution_count": 94
        }
      ]
    },
    {
      "cell_type": "code",
      "metadata": {
        "id": "83WS5NQvCb-h"
      },
      "source": [
        "def plot_qa_mape(stats_table):\r\n",
        "\r\n",
        "    mape_lst = []\r\n",
        "    da_lst = []\r\n",
        "    qa_lst = []\r\n",
        "    activity_lst = []\r\n",
        "\r\n",
        "    for activity in np.uqique(stats_table['activity']):\r\n",
        "        activity_table = stats_table[stats_table.activity == activity]\r\n",
        "        \r\n",
        "        qa_range = [35, 40, 45, 50, 55, 60]\r\n",
        "        for qa in qa_range:\r\n",
        "            sum = 0\r\n",
        "            count = 0\r\n",
        "            for i in range(len(activity_table)):\r\n",
        "                if qa <= activity_table['quality'][i] <= 100:\r\n",
        "                    sum += abs(activity_table['floyer_hr'] - \r\n",
        "                               activity_table['polar_hr']) / \r\n",
        "                               activity_table['polar_hr'] * 100\r\n",
        "                    count += 1\r\n",
        "            mape = round(sum / count, 2)\r\n",
        "            da = round(count / len(activity_table), 2)\r\n",
        "            mape_lst.append(mape)\r\n",
        "            da_lst.append(mape)\r\n",
        "            qa_lst.append(qa)\r\n",
        "            activity_lst.append(activity)\r\n",
        "\r\n",
        "    dic = {'mape': mape_lst,\r\n",
        "           'da': da_lst,\r\n",
        "           ''}        \r\n",
        "                 \r\n",
        "\r\n"
      ],
      "execution_count": null,
      "outputs": []
    }
  ]
}