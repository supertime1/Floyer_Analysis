{
  "nbformat": 4,
  "nbformat_minor": 0,
  "metadata": {
    "colab": {
      "name": "Cosinuss.ipynb",
      "provenance": [],
      "collapsed_sections": [],
      "authorship_tag": "ABX9TyMGNpQaziWlpQkBaED0VE5r",
      "include_colab_link": true
    },
    "kernelspec": {
      "name": "python3",
      "display_name": "Python 3"
    }
  },
  "cells": [
    {
      "cell_type": "markdown",
      "metadata": {
        "id": "view-in-github",
        "colab_type": "text"
      },
      "source": [
        "<a href=\"https://colab.research.google.com/github/supertime1/Floyer_Analysis/blob/main/Cosinuss.ipynb\" target=\"_parent\"><img src=\"https://colab.research.google.com/assets/colab-badge.svg\" alt=\"Open In Colab\"/></a>"
      ]
    },
    {
      "cell_type": "code",
      "metadata": {
        "id": "X_NhMO3JRJC0"
      },
      "source": [
        "import sys\r\n",
        "sys.path.append('C:/Users/57lzhang.US04WW4008/PycharmProjects/cosinuss')"
      ],
      "execution_count": 2,
      "outputs": []
    },
    {
      "cell_type": "code",
      "metadata": {
        "colab": {
          "base_uri": "https://localhost:8080/"
        },
        "id": "buQcxbm5RvZd",
        "outputId": "e00e90ab-54f9-4de2-e755-8799d9c84004"
      },
      "source": [
        "from data_container import config, DataFile\r\n",
        "from data_container.importer import Importer\r\n",
        "import matplotlib.pyplot as plt\r\n",
        "import numpy as np"
      ],
      "execution_count": 3,
      "outputs": [
        {
          "output_type": "stream",
          "text": [
            "2021-02-18 10:05:18 - DEBUG -       dc_config:  45 - DcConfig initialized\n"
          ],
          "name": "stderr"
        }
      ]
    },
    {
      "cell_type": "code",
      "metadata": {
        "colab": {
          "base_uri": "https://localhost:8080/"
        },
        "id": "bU7_4mYhR1ou",
        "outputId": "e1e15fce-97a9-46f7-8684-bccafa1f7268"
      },
      "source": [
        "config.init(db_name='sonova_analysis')\r\n",
        "imp = Importer(username='sonova.fremont.api',\r\n",
        "               server = 'https://telecovid.earconnect.de')\r\n",
        "# password: teeshau7aiMonoh9ee"
      ],
      "execution_count": 5,
      "outputs": [
        {
          "output_type": "stream",
          "text": [
            "2021-02-18 10:05:37 - ERROR -       dc_config:  52 - data_container.config.init() can only be called once\n",
            "2021-02-18 10:05:37 -  INFO -       api_login: 241 - login: sonova.fremont.api @ https://telecovid.earconnect.de\n",
            "2021-02-18 10:05:38 -  INFO -       api_login: 253 - successful login, it expires 2021-02-18 22:05:38 expiring in 720.0 min\n"
          ],
          "name": "stderr"
        }
      ]
    },
    {
      "cell_type": "code",
      "metadata": {
        "id": "jgyvdr_ZS_4U"
      },
      "source": [
        "# download data if it is not in local database\r\n",
        "#df_cshell = imp.pull_df('8QEK89R9B4.2NTSXK')\r\n",
        "\r\n",
        "#import cShell data\r\n",
        "df_cshell = DataFile.objects(_hash_id='8QEK89R9B4.2NTSXK').first()\r\n",
        "cshell = imp.one3_hr_algo('v0', '8QEK89R9B4.2NTSXK')\r\n",
        "cshell.keys()\r\n",
        "cs_hr_x = np.asarray(cshell['heart_rate_t'])\r\n",
        "cs_hr_y = cshell['heart_rate']\r\n",
        "cd_q = cshell['quality']"
      ],
      "execution_count": 10,
      "outputs": []
    },
    {
      "cell_type": "code",
      "metadata": {
        "colab": {
          "base_uri": "https://localhost:8080/"
        },
        "id": "3gTyksivWu2p",
        "outputId": "c9a06bd5-61c8-43e4-c015-bf1c2a6950d8"
      },
      "source": [
        "#import polar data\r\n",
        "df_ploar = imp.pull_df('003RN9.36G4ZN')\r\n",
        "\r\n",
        "df_polar = DataFile.objects(_hash_id='003RN9.36G4ZN').first()\r\n",
        "po_hr_x = df_polar.c.heart_rate.x\r\n",
        "po_hr_y = df_polar.c.heart_rate.y\r\n",
        "offset = (df_cshell.date_time_start - \r\n",
        "          df_polar.date_time_start).total_seconds() + 2098"
      ],
      "execution_count": 15,
      "outputs": [
        {
          "output_type": "stream",
          "text": [
            "2021-02-18 10:22:19 -  INFO -     api_db_sync: 429 - Data file 003RN9.36G4ZN completely downloaded + database_entries: Scope, Config, Projects (4), Receivers (3), Persons (27), Devices (4)User (6), \n"
          ],
          "name": "stderr"
        }
      ]
    },
    {
      "cell_type": "code",
      "metadata": {
        "id": "SUi9CmcwBMbS"
      },
      "source": [
        "new = np.asarray([round(i) for i in po_hr_x])"
      ],
      "execution_count": 45,
      "outputs": []
    },
    {
      "cell_type": "code",
      "metadata": {
        "colab": {
          "base_uri": "https://localhost:8080/"
        },
        "id": "vaZAsfcLCXrG",
        "outputId": "794849b8-9b54-4acf-c2b9-df312b92d879"
      },
      "source": [
        "new"
      ],
      "execution_count": 46,
      "outputs": [
        {
          "output_type": "execute_result",
          "data": {
            "text/plain": [
              "array([   5,    6,    7, ..., 5317, 5318, 5319])"
            ]
          },
          "metadata": {
            "tags": []
          },
          "execution_count": 46
        }
      ]
    },
    {
      "cell_type": "code",
      "metadata": {
        "colab": {
          "base_uri": "https://localhost:8080/"
        },
        "id": "wAw0ZARtCi7b",
        "outputId": "cbaa1c63-748a-4e0e-c671-df3365e2a9ad"
      },
      "source": [
        "cs_hr_x"
      ],
      "execution_count": 47,
      "outputs": [
        {
          "output_type": "execute_result",
          "data": {
            "text/plain": [
              "array([   7,    8,    9, ..., 1605, 1606, 1607])"
            ]
          },
          "metadata": {
            "tags": []
          },
          "execution_count": 47
        }
      ]
    },
    {
      "cell_type": "code",
      "metadata": {
        "colab": {
          "base_uri": "https://localhost:8080/",
          "height": 264
        },
        "id": "0DzrkPW6YO4B",
        "outputId": "98b5b561-3515-4979-f0ee-92add93878f1"
      },
      "source": [
        "plt.plot(po_hr_x[100], po_hr_y, marker='.', label='polar')\r\n",
        "#plt.plot(cs_hr_x+offset, cs_hr_y, marker='.', label='cshell')\r\n",
        "plt.legend()\r\n",
        "plt.show()"
      ],
      "execution_count": 31,
      "outputs": [
        {
          "output_type": "display_data",
          "data": {
            "text/plain": [
              "<Figure size 432x288 with 1 Axes>"
            ],
            "image/png": "[encoded data removed]"
          },
          "metadata": {
            "tags": [],
            "needs_background": "light"
          }
        }
      ]
    },
    {
      "cell_type": "code",
      "metadata": {
        "id": "Am3cyEPnZB_l"
      },
      "source": [
        "#convert time to seconds in integer\r\n",
        "#fill\r\n",
        "class PairedSample:\r\n",
        "    \r\n",
        "    def __init__(self, polar_hash_id, floyer_hash_id, hr_algo_version):\r\n",
        "        self.polar_hash_id = polar_hash_id\r\n",
        "        self.floyer_hash_id = floyer_hash_id\r\n",
        "        self.df_polar = DataFile.objects(_hash_id=polar_hash_id).first()\r\n",
        "        self.df_floyer = DataFile.objects(_hash_id=floyer_hash_id).first()\r\n",
        "        self.hr_algo_version = hr_algo_version\r\n",
        "    \r\n",
        "    def process(self):\r\n",
        "        # calculate floyer heart rate\r\n",
        "        floyer = imp.one3_hr_algo(self.hr_algo_version, self.floyer_hash_id)\r\n",
        "        floyer_hr_x = np.asarray(floyer['heart_rate_t'])\r\n",
        "        floyer_hr_y = floyer['heart_rate']\r\n",
        "\r\n",
        "        # get polar heart rate \r\n",
        "        po_hr_x = self.df_polar.c.heart_rate.x\r\n",
        "        po_hr_y = self.df_polar.c.heart_rate.y\r\n",
        "\r\n",
        "        # calculate offsets (i.e. floyer and polar maynot start recording at the\r\n",
        "        # same time)\r\n",
        "        offset = (df_cshell.date_time_start - \r\n",
        "                  df_polar.date_time_start).total_seconds() + 2098\r\n",
        "        # make sure two devices start at the same time\r\n",
        "        po_hr_x = po_hr_x[offset:]\r\n",
        "        po_hr_y = po_hr_y[offset:]\r\n",
        "\r\n",
        "        # create a new dataframe with three columns: time (s), p_hr, f_hr\r\n",
        "        \r\n",
        "\r\n",
        "\r\n",
        "        self.mape = self.mape() \r\n",
        "        self.icc = self.icc()\r\n",
        "        self.da = self.da()\r\n",
        "\r\n",
        "    def mape(self):\r\n",
        "    \r\n",
        "    def icc(self):\r\n",
        "    \r\n",
        "    def da(self):\r\n",
        "\r\n",
        "    def line_plot(self):\r\n",
        "\r\n",
        "    def ba_plot(self):\r\n",
        "\r\n",
        "    "
      ],
      "execution_count": null,
      "outputs": []
    }
  ]
}