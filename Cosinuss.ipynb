{
  "nbformat": 4,
  "nbformat_minor": 0,
  "metadata": {
    "colab": {
      "name": "Cosinuss.ipynb",
      "provenance": [],
      "collapsed_sections": [],
      "authorship_tag": "ABX9TyNw1aaxwdjJzKjUL+zGNiN+",
      "include_colab_link": true
    },
    "kernelspec": {
      "name": "python3",
      "display_name": "Python 3"
    }
  },
  "cells": [
    {
      "cell_type": "markdown",
      "metadata": {
        "id": "view-in-github",
        "colab_type": "text"
      },
      "source": [
        "<a href=\"https://colab.research.google.com/github/supertime1/Floyer_Analysis/blob/main/Cosinuss.ipynb\" target=\"_parent\"><img src=\"https://colab.research.google.com/assets/colab-badge.svg\" alt=\"Open In Colab\"/></a>"
      ]
    },
    {
      "cell_type": "markdown",
      "metadata": {
        "id": "UUCjV4YaSzpT"
      },
      "source": [
        "#1. Set up dependency"
      ]
    },
    {
      "cell_type": "code",
      "metadata": {
        "id": "X_NhMO3JRJC0"
      },
      "source": [
        "import sys\r\n",
        "sys.path.append('C:/Users/57lzhang.US04WW4008/PycharmProjects/cosinuss')"
      ],
      "execution_count": null,
      "outputs": []
    },
    {
      "cell_type": "code",
      "metadata": {
        "id": "buQcxbm5RvZd"
      },
      "source": [
        "from data_container import config, DataFile\r\n",
        "from data_container.api_db_sync import DBSync\r\n",
        "import matplotlib.pyplot as plt\r\n",
        "import numpy as np\r\n",
        "import pandas as pd"
      ],
      "execution_count": null,
      "outputs": []
    },
    {
      "cell_type": "markdown",
      "metadata": {
        "id": "Ae-3xQw-S4E9"
      },
      "source": [
        "#2.Connect to Cosinuss Database"
      ]
    },
    {
      "cell_type": "code",
      "metadata": {
        "colab": {
          "base_uri": "https://localhost:8080/"
        },
        "id": "bU7_4mYhR1ou",
        "outputId": "12da66db-81eb-449d-e491-bd1acda34d2d"
      },
      "source": [
        "def configure_api(db_name, username, update_local=False):\r\n",
        "    \"\"\"\r\n",
        "    Configure api as the data handler\r\n",
        "    \"\"\"\r\n",
        "    try:\r\n",
        "        config.init(db_name=db_name)\r\n",
        "        api = DBSync(username=username,\r\n",
        "                    server = 'https://telecovid.earconnect.de')\r\n",
        "    except:\r\n",
        "        print('Configure API failed')\r\n",
        "        return\r\n",
        "    # password: teeshau7aiMonoh9ee\r\n",
        "    if update_local:\r\n",
        "    # download data from the server\r\n",
        "        api.pull_all_dfs(prj_hash_id='M9KH')\r\n",
        "    \r\n",
        "    df_list_local = api.df_list(prj_hash_id='M9KH')\r\n",
        "    print('There are', len(df_list_local), 'files in local database')\r\n",
        "    return api\r\n",
        "\r\n",
        "\r\n",
        "api = configure_api('sonova_analysis', 'sonova.fremont.api')"
      ],
      "execution_count": null,
      "outputs": [
        {
          "output_type": "stream",
          "text": [
            "2021-02-23 15:29:53 - ERROR -       dc_config:  52 - data_container.config.init() can only be called once\n",
            "2021-02-23 15:29:58 -  INFO -       api_login: 241 - login: sonova.fremont.api @ https://telecovid.earconnect.de\n",
            "2021-02-23 15:30:00 -  INFO -       api_login: 253 - successful login, it expires 2021-02-24 03:30:01 expiring in 720.0 min\n"
          ],
          "name": "stderr"
        },
        {
          "output_type": "stream",
          "text": [
            "There are 163 files in local database\n"
          ],
          "name": "stdout"
        }
      ]
    },
    {
      "cell_type": "code",
      "metadata": {
        "colab": {
          "base_uri": "https://localhost:8080/",
          "height": 215
        },
        "id": "4dKZ65Q_z5b-",
        "outputId": "bb6f2c3c-1a18-45b7-fffe-22242d05dbe2"
      },
      "source": [
        "def generate_table(date):\r\n",
        "    \"\"\"\r\n",
        "    Convert local database into a Pandas dataframe, for ease of data analysis\r\n",
        "\r\n",
        "    params:\r\n",
        "    date: select the date that data is generated\r\n",
        "\r\n",
        "    outputs:\r\n",
        "    an overview table in the form of pandas dataframe\r\n",
        "    \"\"\"\r\n",
        "    table = api.overview_dfs()\r\n",
        "    overview_df = pd.DataFrame(table[1:], columns=table[0])\r\n",
        "    # change to lower case for the device name\r\n",
        "    overview_df['device'] = overview_df['device'].str.lower()\r\n",
        "    overview_df.loc[overview_df.device.str.match(r'^polar'), 'device']= 'polar'\r\n",
        "    overview_df = overview_df[overview_df.when > date]\r\n",
        "    overview_df['when'] = [datetime.datetime.strptime(i, '%Y-%m-%d %H:%M:%S') for \r\n",
        "                           i in list(overview_df['when'])]\r\n",
        "    overview_df['duration'] = [datetime.datetime.strptime(i, '%H:%M:%S') for \r\n",
        "                               i in list(overview_df['duration'])]\r\n",
        "    overview_df['end'] = [(overview_df.when.loc[i] \r\n",
        "                           - datetime.datetime(1900, 1, 1) \r\n",
        "                           + overview_df.duration.loc[i]) for i in overview_df.index]\r\n",
        "    return overview_df\r\n",
        "\r\n",
        "table = generate_table('2020-12-31')\r\n",
        "print('There are', len(table), 'test records')\r\n",
        "table.head()"
      ],
      "execution_count": null,
      "outputs": [
        {
          "output_type": "stream",
          "text": [
            "There are 63 test records\n"
          ],
          "name": "stdout"
        },
        {
          "output_type": "execute_result",
          "data": {
            "text/plain": [
              "               person                when  device              df id  \\\n",
              "100  M9KH.BZYG (RaHe) 2021-02-08 14:15:09   polar  1C2RATHBVH.C4CDEZ   \n",
              "101  M9KH.BZYG (RaHe) 2021-02-08 14:15:14  cshell  1C2RATHBVH.38CD8K   \n",
              "102  M9KH.BZYG (RaHe) 2021-02-08 14:15:23  cshell  1C2RATHBVH.LEMWKL   \n",
              "103  M9KH.BZYG (RaHe) 2021-02-08 14:15:35  garmin  8QEK89R9B4.NZH5XL   \n",
              "104  M9KH.ME9A (LeLo) 2021-02-08 15:23:00   polar  1C2RATHBVH.XCMFW1   \n",
              "\n",
              "               duration samples                                 cols  \\\n",
              "100 1900-01-01 00:34:48   2.1 K                           heart_rate   \n",
              "101 1900-01-01 00:34:42   1.7 M  ppg_ir, ppg_ir_2, ppg_ir_3, ppg_...   \n",
              "102 1900-01-01 00:34:36   1.7 M  ppg_ir, ppg_ir_2, ppg_ir_3, ppg_...   \n",
              "103 1900-01-01 00:45:27   2.7 K                           heart_rate   \n",
              "104 1900-01-01 00:34:34   2.1 K                           heart_rate   \n",
              "\n",
              "                    end  \n",
              "100 2021-02-08 14:49:57  \n",
              "101 2021-02-08 14:49:56  \n",
              "102 2021-02-08 14:49:59  \n",
              "103 2021-02-08 15:01:02  \n",
              "104 2021-02-08 15:57:34  "
            ],
            "text/html": [
              "<div>\n",
              "<style scoped>\n",
              "    .dataframe tbody tr th:only-of-type {\n",
              "        vertical-align: middle;\n",
              "    }\n",
              "\n",
              "    .dataframe tbody tr th {\n",
              "        vertical-align: top;\n",
              "    }\n",
              "\n",
              "    .dataframe thead th {\n",
              "        text-align: right;\n",
              "    }\n",
              "</style>\n",
              "<table border=\"1\" class=\"dataframe\">\n",
              "  <thead>\n",
              "    <tr style=\"text-align: right;\">\n",
              "      <th></th>\n",
              "      <th>person</th>\n",
              "      <th>when</th>\n",
              "      <th>device</th>\n",
              "      <th>df id</th>\n",
              "      <th>duration</th>\n",
              "      <th>samples</th>\n",
              "      <th>cols</th>\n",
              "      <th>end</th>\n",
              "    </tr>\n",
              "  </thead>\n",
              "  <tbody>\n",
              "    <tr>\n",
              "      <td>100</td>\n",
              "      <td>M9KH.BZYG (RaHe)</td>\n",
              "      <td>2021-02-08 14:15:09</td>\n",
              "      <td>polar</td>\n",
              "      <td>1C2RATHBVH.C4CDEZ</td>\n",
              "      <td>1900-01-01 00:34:48</td>\n",
              "      <td>2.1 K</td>\n",
              "      <td>heart_rate</td>\n",
              "      <td>2021-02-08 14:49:57</td>\n",
              "    </tr>\n",
              "    <tr>\n",
              "      <td>101</td>\n",
              "      <td>M9KH.BZYG (RaHe)</td>\n",
              "      <td>2021-02-08 14:15:14</td>\n",
              "      <td>cshell</td>\n",
              "      <td>1C2RATHBVH.38CD8K</td>\n",
              "      <td>1900-01-01 00:34:42</td>\n",
              "      <td>1.7 M</td>\n",
              "      <td>ppg_ir, ppg_ir_2, ppg_ir_3, ppg_...</td>\n",
              "      <td>2021-02-08 14:49:56</td>\n",
              "    </tr>\n",
              "    <tr>\n",
              "      <td>102</td>\n",
              "      <td>M9KH.BZYG (RaHe)</td>\n",
              "      <td>2021-02-08 14:15:23</td>\n",
              "      <td>cshell</td>\n",
              "      <td>1C2RATHBVH.LEMWKL</td>\n",
              "      <td>1900-01-01 00:34:36</td>\n",
              "      <td>1.7 M</td>\n",
              "      <td>ppg_ir, ppg_ir_2, ppg_ir_3, ppg_...</td>\n",
              "      <td>2021-02-08 14:49:59</td>\n",
              "    </tr>\n",
              "    <tr>\n",
              "      <td>103</td>\n",
              "      <td>M9KH.BZYG (RaHe)</td>\n",
              "      <td>2021-02-08 14:15:35</td>\n",
              "      <td>garmin</td>\n",
              "      <td>8QEK89R9B4.NZH5XL</td>\n",
              "      <td>1900-01-01 00:45:27</td>\n",
              "      <td>2.7 K</td>\n",
              "      <td>heart_rate</td>\n",
              "      <td>2021-02-08 15:01:02</td>\n",
              "    </tr>\n",
              "    <tr>\n",
              "      <td>104</td>\n",
              "      <td>M9KH.ME9A (LeLo)</td>\n",
              "      <td>2021-02-08 15:23:00</td>\n",
              "      <td>polar</td>\n",
              "      <td>1C2RATHBVH.XCMFW1</td>\n",
              "      <td>1900-01-01 00:34:34</td>\n",
              "      <td>2.1 K</td>\n",
              "      <td>heart_rate</td>\n",
              "      <td>2021-02-08 15:57:34</td>\n",
              "    </tr>\n",
              "  </tbody>\n",
              "</table>\n",
              "</div>"
            ]
          },
          "metadata": {
            "tags": []
          },
          "execution_count": 193
        }
      ]
    },
    {
      "cell_type": "code",
      "metadata": {
        "colab": {
          "base_uri": "https://localhost:8080/"
        },
        "id": "Bovy12uwygfx",
        "outputId": "b43ce6b1-957d-4037-ec6d-1d9dc372182c"
      },
      "source": [
        " def correct_label(table):\r\n",
        "    \"\"\"\r\n",
        "    fix the labeling problem of cshell and biometric\r\n",
        "    \r\n",
        "    params:\r\n",
        "    overview table from generate_table function\r\n",
        "\r\n",
        "    outputs:\r\n",
        "    updated table with correct cshell and biometric labels\r\n",
        "\r\n",
        "    \"\"\"\r\n",
        "    def get_device_model(df):\r\n",
        "        \"\"\"\r\n",
        "        get device\r\n",
        "        \r\n",
        "        params:\r\n",
        "        df - output of api.pull_df\r\n",
        "        \r\n",
        "        outputs:\r\n",
        "        correct device label for df\r\n",
        "        \"\"\"\r\n",
        "        # get device\r\n",
        "        if df.device:\r\n",
        "            device_model = df.device.device_model\r\n",
        "        else:\r\n",
        "            device_model = df.device_model\r\n",
        "        \r\n",
        "        if 'polar' in device_model.lower():\r\n",
        "            return 'polar'\r\n",
        "\r\n",
        "        elif 'biomeric' in device_model.lower() or 'cshell' in device_model.lower():\r\n",
        "            if 'ppg_ir_2' in list(df.cols):\r\n",
        "                some_data = df.c.ppg_ir_2.y[600:650]\r\n",
        "                if list(some_data):\r\n",
        "                    ppg_mean = np.mean(some_data)\r\n",
        "                else:\r\n",
        "                    return 'na'\r\n",
        "            else:\r\n",
        "                ppg_mean = 1000\r\n",
        "            \r\n",
        "            if ppg_mean < 500:\r\n",
        "                return 'cshell'\r\n",
        "            else:\r\n",
        "                return 'biometric'\r\n",
        "    \r\n",
        "    def get_correct_label(hash_ids, target_device):\r\n",
        "        \"\"\"\r\n",
        "\r\n",
        "        \"\"\"\r\n",
        "        # output list of corrected labels\r\n",
        "        corrected_name = []\r\n",
        "        # a counter to record how many labels have been corrected after processing\r\n",
        "        cnt = 0\r\n",
        "        print(f'There are in total {len(hash_ids)} files with {target_device} label')\r\n",
        "        for i in range(len(hash_ids)):\r\n",
        "            try:\r\n",
        "                print(f'api reading {i}th file...')\r\n",
        "                df = api.pull_df(list(hash_ids)[i]) \r\n",
        "            # in case reading file failed\r\n",
        "            except:\r\n",
        "                print(f'api read {i}th file failed!')\r\n",
        "                corrected_name.append(table.loc[hash_ids.index[i]].device)\r\n",
        "                continue\r\n",
        "            # get the new label by api reading the file\r\n",
        "            new_label = get_device_model(df)\r\n",
        "            corrected_name.append(new_label)\r\n",
        "            if new_label != table.loc[hash_ids.index[i]].device:\r\n",
        "                print(f'Person {table.loc[hash_ids.index[i]].person} and \\\r\n",
        "            {target_device} label has been corrected to {new_label}')\r\n",
        "                cnt += 1\r\n",
        "        print(f'There are in total {cnt} files been corrected')\r\n",
        "        return corrected_name\r\n",
        "\r\n",
        "    # get the hash ids of cshell and biometric in original table\r\n",
        "    cshell_hash_ids = table[table.device == 'cshell']['df id']\r\n",
        "    biometric_hash_ids = table[table.device == 'biometric']['df id']\r\n",
        "\r\n",
        "    # get the row index of cshell and biometric in original table\r\n",
        "    original_cshell_index = table[table.device == 'cshell'].index\r\n",
        "    original_biometric_index = table[table.device == 'biometric'].index\r\n",
        "    \r\n",
        "    # update the original table with corrected labels of cshell and biometric\r\n",
        "    table.device.loc[original_cshell_index] = get_correct_label(cshell_hash_ids, \r\n",
        "                                                     'cshell')\r\n",
        "    table.device.loc[original_biometric_index] = get_correct_label(biometric_hash_ids, \r\n",
        "                                                        'biometric')\r\n",
        "\r\n",
        "    return table\r\n",
        "\r\n",
        "table = correct_label(table)"
      ],
      "execution_count": null,
      "outputs": [
        {
          "output_type": "stream",
          "text": [
            "There are in total 32 files with cshell label\n",
            "api reading 0th file...\n"
          ],
          "name": "stdout"
        },
        {
          "output_type": "stream",
          "text": [
            "2021-02-23 16:18:12 -  INFO -     api_db_sync: 429 - Data file 1C2RATHBVH.38CD8K completely downloaded + database_entries: Scope, Config, Projects (4), Receivers (3), Persons (27), Devices (4)User (6), \n"
          ],
          "name": "stderr"
        },
        {
          "output_type": "stream",
          "text": [
            "api reading 1th file...\n"
          ],
          "name": "stdout"
        },
        {
          "output_type": "stream",
          "text": [
            "2021-02-23 16:18:29 -  INFO -     api_db_sync: 429 - Data file 1C2RATHBVH.LEMWKL completely downloaded + database_entries: Scope, Config, Projects (4), Receivers (3), Persons (27), Devices (4)User (6), \n"
          ],
          "name": "stderr"
        },
        {
          "output_type": "stream",
          "text": [
            "Person M9KH.BZYG (RaHe) and            cshell label has been corrected to biometric\n",
            "api reading 2th file...\n"
          ],
          "name": "stdout"
        },
        {
          "output_type": "stream",
          "text": [
            "2021-02-23 16:18:47 -  INFO -     api_db_sync: 429 - Data file 1C2RATHBVH.C4KKHL completely downloaded + database_entries: Scope, Config, Projects (4), Receivers (3), Persons (27), Devices (4)User (6), \n"
          ],
          "name": "stderr"
        },
        {
          "output_type": "stream",
          "text": [
            "Person M9KH.ME9A (LeLo) and            cshell label has been corrected to biometric\n",
            "api reading 3th file...\n"
          ],
          "name": "stdout"
        },
        {
          "output_type": "stream",
          "text": [
            "2021-02-23 16:19:04 -  INFO -     api_db_sync: 429 - Data file 1C2RATHBVH.G2HHR3 completely downloaded + database_entries: Scope, Config, Projects (4), Receivers (3), Persons (27), Devices (4)User (6), \n"
          ],
          "name": "stderr"
        },
        {
          "output_type": "stream",
          "text": [
            "api reading 4th file...\n"
          ],
          "name": "stdout"
        },
        {
          "output_type": "stream",
          "text": [
            "2021-02-23 16:19:22 -  INFO -     api_db_sync: 429 - Data file 1C2RATHBVH.RG2ZUB completely downloaded + database_entries: Scope, Config, Projects (4), Receivers (3), Persons (27), Devices (4)User (6), \n"
          ],
          "name": "stderr"
        },
        {
          "output_type": "stream",
          "text": [
            "Person M9KH.03GS (DaBi) and            cshell label has been corrected to biometric\n",
            "api reading 5th file...\n"
          ],
          "name": "stdout"
        },
        {
          "output_type": "stream",
          "text": [
            "2021-02-23 16:19:41 -  INFO -     api_db_sync: 429 - Data file 1C2RATHBVH.3DT9PX completely downloaded + database_entries: Scope, Config, Projects (4), Receivers (3), Persons (27), Devices (4)User (6), \n"
          ],
          "name": "stderr"
        },
        {
          "output_type": "stream",
          "text": [
            "Person M9KH.03GS (DaBi) and            cshell label has been corrected to biometric\n",
            "api reading 6th file...\n"
          ],
          "name": "stdout"
        },
        {
          "output_type": "stream",
          "text": [
            "2021-02-23 16:19:59 -  INFO -     api_db_sync: 429 - Data file 1C2RATHBVH.FTZLPT completely downloaded + database_entries: Scope, Config, Projects (4), Receivers (3), Persons (27), Devices (4)User (6), \n"
          ],
          "name": "stderr"
        },
        {
          "output_type": "stream",
          "text": [
            "Person M9KH.BZYG (RaHe) and            cshell label has been corrected to biometric\n",
            "api reading 7th file...\n"
          ],
          "name": "stdout"
        },
        {
          "output_type": "stream",
          "text": [
            "2021-02-23 16:20:16 -  INFO -     api_db_sync: 429 - Data file 1C2RATHBVH.95P86S completely downloaded + database_entries: Scope, Config, Projects (4), Receivers (3), Persons (27), Devices (4)User (6), \n"
          ],
          "name": "stderr"
        },
        {
          "output_type": "stream",
          "text": [
            "Person M9KH.BZYG (RaHe) and            cshell label has been corrected to biometric\n",
            "api reading 8th file...\n"
          ],
          "name": "stdout"
        },
        {
          "output_type": "stream",
          "text": [
            "2021-02-23 16:20:34 -  INFO -     api_db_sync: 429 - Data file 1C2RATHBVH.DFEWY2 completely downloaded + database_entries: Scope, Config, Projects (4), Receivers (3), Persons (27), Devices (4)User (6), \n"
          ],
          "name": "stderr"
        },
        {
          "output_type": "stream",
          "text": [
            "Person M9KH.UZSF (GeSc) and            cshell label has been corrected to biometric\n",
            "api reading 9th file...\n"
          ],
          "name": "stdout"
        },
        {
          "output_type": "stream",
          "text": [
            "2021-02-23 16:20:52 -  INFO -     api_db_sync: 429 - Data file 1C2RATHBVH.009DDE completely downloaded + database_entries: Scope, Config, Projects (4), Receivers (3), Persons (27), Devices (4)User (6), \n"
          ],
          "name": "stderr"
        },
        {
          "output_type": "stream",
          "text": [
            "api reading 10th file...\n"
          ],
          "name": "stdout"
        },
        {
          "output_type": "stream",
          "text": [
            "2021-02-23 16:21:10 -  INFO -     api_db_sync: 429 - Data file 1C2RATHBVH.V5BXYZ completely downloaded + database_entries: Scope, Config, Projects (4), Receivers (3), Persons (27), Devices (4)User (6), \n"
          ],
          "name": "stderr"
        },
        {
          "output_type": "stream",
          "text": [
            "api reading 11th file...\n"
          ],
          "name": "stdout"
        },
        {
          "output_type": "stream",
          "text": [
            "2021-02-23 16:21:28 -  INFO -     api_db_sync: 429 - Data file 1C2RATHBVH.XYXZQ3 completely downloaded + database_entries: Scope, Config, Projects (4), Receivers (3), Persons (27), Devices (4)User (6), \n"
          ],
          "name": "stderr"
        },
        {
          "output_type": "stream",
          "text": [
            "Person M9KH.QFUS (ZiTo) and            cshell label has been corrected to biometric\n",
            "api reading 12th file...\n"
          ],
          "name": "stdout"
        },
        {
          "output_type": "stream",
          "text": [
            "2021-02-23 16:21:46 -  INFO -     api_db_sync: 429 - Data file 1C2RATHBVH.C0KF6Y completely downloaded + database_entries: Scope, Config, Projects (4), Receivers (3), Persons (27), Devices (4)User (6), \n"
          ],
          "name": "stderr"
        },
        {
          "output_type": "stream",
          "text": [
            "api reading 13th file...\n"
          ],
          "name": "stdout"
        },
        {
          "output_type": "stream",
          "text": [
            "2021-02-23 16:22:03 -  INFO -     api_db_sync: 429 - Data file 1C2RATHBVH.LBYCML completely downloaded + database_entries: Scope, Config, Projects (4), Receivers (3), Persons (27), Devices (4)User (6), \n"
          ],
          "name": "stderr"
        },
        {
          "output_type": "stream",
          "text": [
            "Person M9KH.C37E (MeBa) and            cshell label has been corrected to biometric\n",
            "api reading 14th file...\n"
          ],
          "name": "stdout"
        },
        {
          "output_type": "stream",
          "text": [
            "2021-02-23 16:22:21 -  INFO -     api_db_sync: 429 - Data file 1C2RATHBVH.43ENQN completely downloaded + database_entries: Scope, Config, Projects (4), Receivers (3), Persons (27), Devices (4)User (6), \n"
          ],
          "name": "stderr"
        },
        {
          "output_type": "stream",
          "text": [
            "Person M9KH.7614 (ThHo) and            cshell label has been corrected to biometric\n",
            "api reading 15th file...\n"
          ],
          "name": "stdout"
        },
        {
          "output_type": "stream",
          "text": [
            "2021-02-23 16:22:39 -  INFO -     api_db_sync: 429 - Data file 1C2RATHBVH.DYPFM1 completely downloaded + database_entries: Scope, Config, Projects (4), Receivers (3), Persons (27), Devices (4)User (6), \n"
          ],
          "name": "stderr"
        },
        {
          "output_type": "stream",
          "text": [
            "api reading 16th file...\n"
          ],
          "name": "stdout"
        },
        {
          "output_type": "stream",
          "text": [
            "2021-02-23 16:22:58 -  INFO -     api_db_sync: 429 - Data file 1C2RATHBVH.1BA6MT completely downloaded + database_entries: Scope, Config, Projects (4), Receivers (3), Persons (27), Devices (4)User (6), \n"
          ],
          "name": "stderr"
        },
        {
          "output_type": "stream",
          "text": [
            "Person M9KH.NWJR (DaBo) and            cshell label has been corrected to biometric\n",
            "api reading 17th file...\n"
          ],
          "name": "stdout"
        },
        {
          "output_type": "stream",
          "text": [
            "2021-02-23 16:23:17 -  INFO -     api_db_sync: 429 - Data file 1C2RATHBVH.J5PHBD completely downloaded + database_entries: Scope, Config, Projects (4), Receivers (3), Persons (27), Devices (4)User (6), \n"
          ],
          "name": "stderr"
        },
        {
          "output_type": "stream",
          "text": [
            "Person M9KH.NWJR (DaBo) and            cshell label has been corrected to biometric\n",
            "api reading 18th file...\n"
          ],
          "name": "stdout"
        },
        {
          "output_type": "stream",
          "text": [
            "2021-02-23 16:23:34 -  INFO -     api_db_sync: 429 - Data file 1C2RATHBVH.F5Q8NY completely downloaded + database_entries: Scope, Config, Projects (4), Receivers (3), Persons (27), Devices (4)User (6), \n"
          ],
          "name": "stderr"
        },
        {
          "output_type": "stream",
          "text": [
            "Person M9KH.P0J0 (AlLo) and            cshell label has been corrected to biometric\n",
            "api reading 19th file...\n"
          ],
          "name": "stdout"
        },
        {
          "output_type": "stream",
          "text": [
            "2021-02-23 16:23:54 -  INFO -     api_db_sync: 429 - Data file 1C2RATHBVH.8QGMB1 completely downloaded + database_entries: Scope, Config, Projects (4), Receivers (3), Persons (27), Devices (4)User (6), \n"
          ],
          "name": "stderr"
        },
        {
          "output_type": "stream",
          "text": [
            "Person M9KH.P0J0 (AlLo) and            cshell label has been corrected to biometric\n",
            "api reading 20th file...\n"
          ],
          "name": "stdout"
        },
        {
          "output_type": "stream",
          "text": [
            "2021-02-23 16:24:13 -  INFO -     api_db_sync: 429 - Data file 1C2RATHBVH.Q390R4 completely downloaded + database_entries: Scope, Config, Projects (4), Receivers (3), Persons (27), Devices (4)User (6), \n"
          ],
          "name": "stderr"
        },
        {
          "output_type": "stream",
          "text": [
            "Person M9KH.GHRN (JoKr) and            cshell label has been corrected to biometric\n",
            "api reading 21th file...\n"
          ],
          "name": "stdout"
        },
        {
          "output_type": "stream",
          "text": [
            "2021-02-23 16:24:30 -  INFO -     api_db_sync: 429 - Data file 1C2RATHBVH.JYKU22 completely downloaded + database_entries: Scope, Config, Projects (4), Receivers (3), Persons (27), Devices (4)User (6), \n"
          ],
          "name": "stderr"
        },
        {
          "output_type": "stream",
          "text": [
            "api reading 22th file...\n"
          ],
          "name": "stdout"
        },
        {
          "output_type": "stream",
          "text": [
            "2021-02-23 16:24:47 -  INFO -     api_db_sync: 429 - Data file 1C2RATHBVH.8VE5T8 completely downloaded + database_entries: Scope, Config, Projects (4), Receivers (3), Persons (27), Devices (4)User (6), \n"
          ],
          "name": "stderr"
        },
        {
          "output_type": "stream",
          "text": [
            "Person M9KH.7TV5 (GrKr) and            cshell label has been corrected to biometric\n",
            "api reading 23th file...\n"
          ],
          "name": "stdout"
        },
        {
          "output_type": "stream",
          "text": [
            "2021-02-23 16:25:04 -  INFO -     api_db_sync: 429 - Data file 1C2RATHBVH.N74KKE completely downloaded + database_entries: Scope, Config, Projects (4), Receivers (3), Persons (27), Devices (4)User (6), \n"
          ],
          "name": "stderr"
        },
        {
          "output_type": "stream",
          "text": [
            "api reading 24th file...\n"
          ],
          "name": "stdout"
        },
        {
          "output_type": "stream",
          "text": [
            "2021-02-23 16:25:21 -  INFO -     api_db_sync: 429 - Data file 1C2RATHBVH.9PADC8 completely downloaded + database_entries: Scope, Config, Projects (4), Receivers (3), Persons (27), Devices (4)User (6), \n"
          ],
          "name": "stderr"
        },
        {
          "output_type": "stream",
          "text": [
            "Person M9KH.SWAM (AxHe) and            cshell label has been corrected to biometric\n",
            "api reading 25th file...\n"
          ],
          "name": "stdout"
        },
        {
          "output_type": "stream",
          "text": [
            "2021-02-23 16:25:38 -  INFO -     api_db_sync: 429 - Data file 1C2RATHBVH.2E4QXX completely downloaded + database_entries: Scope, Config, Projects (4), Receivers (3), Persons (27), Devices (4)User (6), \n"
          ],
          "name": "stderr"
        },
        {
          "output_type": "stream",
          "text": [
            "api reading 26th file...\n"
          ],
          "name": "stdout"
        },
        {
          "output_type": "stream",
          "text": [
            "2021-02-23 16:25:56 -  INFO -     api_db_sync: 429 - Data file 1C2RATHBVH.K7MU7Y completely downloaded + database_entries: Scope, Config, Projects (4), Receivers (3), Persons (27), Devices (4)User (6), \n"
          ],
          "name": "stderr"
        },
        {
          "output_type": "stream",
          "text": [
            "Person M9KH.F49H (RaWe) and            cshell label has been corrected to biometric\n",
            "api reading 27th file...\n"
          ],
          "name": "stdout"
        },
        {
          "output_type": "stream",
          "text": [
            "2021-02-23 16:26:13 -  INFO -     api_db_sync: 429 - Data file 1C2RATHBVH.8JCMH7 completely downloaded + database_entries: Scope, Config, Projects (4), Receivers (3), Persons (27), Devices (4)User (6), \n"
          ],
          "name": "stderr"
        },
        {
          "output_type": "stream",
          "text": [
            "Person M9KH.F49H (RaWe) and            cshell label has been corrected to biometric\n",
            "api reading 28th file...\n"
          ],
          "name": "stdout"
        },
        {
          "output_type": "stream",
          "text": [
            "2021-02-23 16:26:29 -  INFO -     api_db_sync: 429 - Data file 1C2RATHBVH.RPZFS4 completely downloaded + database_entries: Scope, Config, Projects (4), Receivers (3), Persons (27), Devices (4)User (6), \n"
          ],
          "name": "stderr"
        },
        {
          "output_type": "stream",
          "text": [
            "Person M9KH.3WKY (FeKo) and            cshell label has been corrected to biometric\n",
            "api reading 29th file...\n"
          ],
          "name": "stdout"
        },
        {
          "output_type": "stream",
          "text": [
            "2021-02-23 16:26:47 -  INFO -     api_db_sync: 429 - Data file 1C2RATHBVH.2X8J8G completely downloaded + database_entries: Scope, Config, Projects (4), Receivers (3), Persons (27), Devices (4)User (6), \n"
          ],
          "name": "stderr"
        },
        {
          "output_type": "stream",
          "text": [
            "Person M9KH.3WKY (FeKo) and            cshell label has been corrected to biometric\n",
            "api reading 30th file...\n"
          ],
          "name": "stdout"
        },
        {
          "output_type": "stream",
          "text": [
            "2021-02-23 16:27:04 -  INFO -     api_db_sync: 429 - Data file 1C2RATHBVH.9592E8 completely downloaded + database_entries: Scope, Config, Projects (4), Receivers (3), Persons (27), Devices (4)User (6), \n"
          ],
          "name": "stderr"
        },
        {
          "output_type": "stream",
          "text": [
            "Person M9KH.WSBV (NiOr) and            cshell label has been corrected to biometric\n",
            "api reading 31th file...\n"
          ],
          "name": "stdout"
        },
        {
          "output_type": "stream",
          "text": [
            "2021-02-23 16:27:21 -  INFO -     api_db_sync: 429 - Data file 1C2RATHBVH.8HL047 completely downloaded + database_entries: Scope, Config, Projects (4), Receivers (3), Persons (27), Devices (4)User (6), \n"
          ],
          "name": "stderr"
        },
        {
          "output_type": "stream",
          "text": [
            "There are in total 22 files been corrected\n",
            "There are in total 0 files with biometric label\n",
            "There are in total 0 files been corrected\n"
          ],
          "name": "stdout"
        },
        {
          "output_type": "stream",
          "text": [
            "C:\\Users\\57lzhang.US04WW4008\\Anaconda3\\lib\\site-packages\\pandas\\core\\indexing.py:205: SettingWithCopyWarning: \n",
            "A value is trying to be set on a copy of a slice from a DataFrame\n",
            "\n",
            "See the caveats in the documentation: http://pandas.pydata.org/pandas-docs/stable/user_guide/indexing.html#returning-a-view-versus-a-copy\n",
            "  self._setitem_with_indexer(indexer, value)\n"
          ],
          "name": "stderr"
        }
      ]
    },
    {
      "cell_type": "code",
      "metadata": {
        "id": "6nSKkqBi1THp"
      },
      "source": [
        "def find_pairs_row_index(table, floyer_device='cshell'):\r\n",
        "    \"\"\"\r\n",
        "    Filter table with paired polar and floyer devices\r\n",
        "    \"\"\"\r\n",
        "    paired_table = table[table.device.isin(['polar', floyer_device])]\r\n",
        "    \r\n",
        "    paired_idx_lst = []\r\n",
        "    # find paried sample ids\r\n",
        "    for person in list(paired_table['person'].unique()):\r\n",
        "        person_paired_table = paired_table[paired_table.person == person]\r\n",
        "        polar_idx_lst = person_paired_table[person_paired_table.device == 'polar'].index\r\n",
        "        floyer_idx_lst = person_paired_table[person_paired_table.device == floyer_device].index\r\n",
        "\r\n",
        "        # find pairs by checking the overlapping time (2*O(n^2))\r\n",
        "        for polar_idx in polar_idx_lst:\r\n",
        "            polar_start_time = person_paired_table.when.loc[polar_idx]\r\n",
        "            polar_end_time = person_paired_table.end.loc[polar_idx]\r\n",
        "\r\n",
        "            for floyer_idx in floyer_idx_lst:\r\n",
        "                floyer_start_time = person_paired_table.when.loc[floyer_idx]\r\n",
        "                floyer_end_time = person_paired_table.end.loc[floyer_idx]\r\n",
        "                \r\n",
        "                if floyer_start_time >= polar_end_time or polar_start_time >= floyer_end_time:\r\n",
        "                    continue\r\n",
        "                else:\r\n",
        "                    paired_idx_lst.append([polar_idx, floyer_idx])\r\n",
        "    \r\n",
        "    return paired_idx_lst"
      ],
      "execution_count": null,
      "outputs": []
    },
    {
      "cell_type": "code",
      "metadata": {
        "colab": {
          "base_uri": "https://localhost:8080/"
        },
        "id": "nQJC_XK6A4xc",
        "outputId": "b7ec8796-8081-4ebe-dfed-0f9ca50b1099"
      },
      "source": [
        "find_pairs_row_index(table, floyer_device='cshell')"
      ],
      "execution_count": null,
      "outputs": [
        {
          "output_type": "execute_result",
          "data": {
            "text/plain": [
              "[[100, 101],\n",
              " [104, 106],\n",
              " [117, 116],\n",
              " [120, 121],\n",
              " [126, 124],\n",
              " [130, 128],\n",
              " [142, 141],\n",
              " [144, 146],\n",
              " [148, 150],\n",
              " [160, 162]]"
            ]
          },
          "metadata": {
            "tags": []
          },
          "execution_count": 207
        }
      ]
    },
    {
      "cell_type": "code",
      "metadata": {
        "id": "AAfUe0gt6-Yc"
      },
      "source": [
        "def generate_paired_samples(paired_idx_lst):\r\n",
        "    \"\"\"\r\n",
        "    Use the index of paired devices (output from find_pairs_row_index) to generate\r\n",
        "    a list of PairedSample instances\r\n",
        "\r\n",
        "    params:\r\n",
        "    paired_idx_lst: a list containing the row index of paired devices, \r\n",
        "                    It is the output of function find_pairs_row_index. \r\n",
        "    outputs:\r\n",
        "    A list of PairedSample instances\r\n",
        "    \"\"\""
      ],
      "execution_count": null,
      "outputs": []
    },
    {
      "cell_type": "markdown",
      "metadata": {
        "id": "1Cuc93RnZfeZ"
      },
      "source": [
        "##Continue here"
      ]
    },
    {
      "cell_type": "code",
      "metadata": {
        "colab": {
          "base_uri": "https://localhost:8080/",
          "height": 266
        },
        "id": "TWj7IBGTrMyF",
        "outputId": "e48ea4a4-0a97-4233-c1d7-611c52e46d7c"
      },
      "source": [
        "cshell = api.one3_hr_algo('v0', '1C2RATHBVH.LBYCML')\r\n",
        "cs_hr_x = np.asarray(cshell['heart_rate_t'])\r\n",
        "cs_hr_y = cshell['heart_rate']\r\n",
        "cd_q = cshell['quality']\r\n",
        "plt.plot(cs_hr_x, cs_hr_y, label='cshell')\r\n",
        "\r\n",
        "cshell1 = api.one3_hr_algo('v0', '1C2RATHBVH.C0KF6Y')\r\n",
        "cs_hr_x_1 = np.asarray(cshell1['heart_rate_t'])\r\n",
        "cs_hr_y_1 = cshell1['heart_rate']\r\n",
        "cd_q1 = cshell1['quality']\r\n",
        "plt.plot(cs_hr_x_1, cs_hr_y_1, label='cshell_1')\r\n",
        "plt.legend()\r\n",
        "plt.show()"
      ],
      "execution_count": null,
      "outputs": [
        {
          "output_type": "display_data",
          "data": {
            "text/plain": [
              "<Figure size 432x288 with 1 Axes>"
            ],
            "image/png": "[encoded data removed]"
          },
          "metadata": {
            "tags": [],
            "needs_background": "light"
          }
        }
      ]
    },
    {
      "cell_type": "code",
      "metadata": {
        "id": "HvK2-jr-rpwh"
      },
      "source": [
        "cshell = api.one3_hr_algo('v0', '1C2RATHBVH.LBYCML')\r\n",
        "cs_hr_x = np.asarray(cshell['heart_rate_t'])\r\n",
        "cs_hr_y = cshell['heart_rate']\r\n",
        "cd_q = cshell['quality']\r\n",
        "plt.plot(cs_hr_x, cs_hr_y)"
      ],
      "execution_count": null,
      "outputs": []
    },
    {
      "cell_type": "code",
      "metadata": {
        "id": "Am3cyEPnZB_l"
      },
      "source": [
        "#convert time to seconds in integer\r\n",
        "#fill\r\n",
        "class PairedSample:\r\n",
        "    \r\n",
        "    def __init__(self, polar_hash_id, floyer_hash_id, hr_algo_version):\r\n",
        "        self.polar_hash_id = polar_hash_id\r\n",
        "        self.floyer_hash_id = floyer_hash_id\r\n",
        "        self.df_polar = DataFile.objects(_hash_id=polar_hash_id).first()\r\n",
        "        self.df_floyer = DataFile.objects(_hash_id=floyer_hash_id).first()\r\n",
        "        self.hr_algo_version = hr_algo_version\r\n",
        "    \r\n",
        "    def process(self):\r\n",
        "        # calculate floyer heart rate\r\n",
        "        floyer = imp.one3_hr_algo(self.hr_algo_version, self.floyer_hash_id)\r\n",
        "        floyer_hr_x = np.asarray(floyer['heart_rate_t'])\r\n",
        "        floyer_hr_y = floyer['heart_rate']\r\n",
        "\r\n",
        "        # get polar heart rate \r\n",
        "        po_hr_x = self.df_polar.c.heart_rate.x\r\n",
        "        po_hr_y = self.df_polar.c.heart_rate.y\r\n",
        "\r\n",
        "        # calculate offsets (i.e. floyer and polar maynot start recording at the\r\n",
        "        # same time)\r\n",
        "        offset = (df_cshell.date_time_start - \r\n",
        "                  df_polar.date_time_start).total_seconds() + 2098\r\n",
        "        # make sure two devices start at the same time\r\n",
        "        po_hr_x = po_hr_x[offset:]\r\n",
        "        po_hr_y = po_hr_y[offset:]\r\n",
        "\r\n",
        "        # create a new dataframe with three columns: time (s), p_hr, f_hr\r\n",
        "        \r\n",
        "\r\n",
        "\r\n",
        "        self.mape = self.mape() \r\n",
        "        self.icc = self.icc()\r\n",
        "        self.da = self.da()\r\n",
        "\r\n",
        "    def mape(self):\r\n",
        "    \r\n",
        "    def icc(self):\r\n",
        "    \r\n",
        "    def da(self):\r\n",
        "\r\n",
        "    def line_plot(self):\r\n",
        "\r\n",
        "    def ba_plot(self):\r\n",
        "\r\n",
        "    "
      ],
      "execution_count": null,
      "outputs": []
    },
    {
      "cell_type": "code",
      "metadata": {
        "colab": {
          "base_uri": "https://localhost:8080/"
        },
        "id": "3gTyksivWu2p",
        "outputId": "c9a06bd5-61c8-43e4-c015-bf1c2a6950d8"
      },
      "source": [
        "#import polar data\r\n",
        "df_ploar = imp.pull_df('003RN9.36G4ZN')\r\n",
        "\r\n",
        "df_polar = DataFile.objects(_hash_id='003RN9.36G4ZN').first()\r\n",
        "po_hr_x = df_polar.c.heart_rate.x\r\n",
        "po_hr_y = df_polar.c.heart_rate.y\r\n",
        "offset = (df_cshell.date_time_start - \r\n",
        "          df_polar.date_time_start).total_seconds() + 2098"
      ],
      "execution_count": null,
      "outputs": [
        {
          "output_type": "stream",
          "text": [
            "2021-02-18 10:22:19 -  INFO -     api_db_sync: 429 - Data file 003RN9.36G4ZN completely downloaded + database_entries: Scope, Config, Projects (4), Receivers (3), Persons (27), Devices (4)User (6), \n"
          ],
          "name": "stderr"
        }
      ]
    }
  ]
}