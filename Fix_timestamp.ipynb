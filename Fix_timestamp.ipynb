{
  "nbformat": 4,
  "nbformat_minor": 0,
  "metadata": {
    "colab": {
      "name": "Fix_timestamp.ipynb",
      "provenance": [],
      "authorship_tag": "ABX9TyMjzK8xNZEu7AcCjMeQsUYz",
      "include_colab_link": true
    },
    "kernelspec": {
      "name": "python3",
      "display_name": "Python 3"
    }
  },
  "cells": [
    {
      "cell_type": "markdown",
      "metadata": {
        "id": "view-in-github",
        "colab_type": "text"
      },
      "source": [
        "<a href=\"https://colab.research.google.com/github/supertime1/Floyer_Analysis/blob/main/Fix_timestamp.ipynb\" target=\"_parent\"><img src=\"https://colab.research.google.com/assets/colab-badge.svg\" alt=\"Open In Colab\"/></a>"
      ]
    },
    {
      "cell_type": "code",
      "metadata": {
        "id": "pEGlc5LzXZEG"
      },
      "source": [
        "import sys\r\n",
        "sys.path.append('C:/Users/57lzhang/Desktop/PPG')"
      ],
      "execution_count": 1,
      "outputs": []
    },
    {
      "cell_type": "code",
      "metadata": {
        "id": "bR6lKce8XrmV"
      },
      "source": [
        "import datetime\r\n",
        "import glob\r\n",
        "import pandas as pd"
      ],
      "execution_count": 2,
      "outputs": []
    },
    {
      "cell_type": "code",
      "metadata": {
        "id": "4m6Lo_7kXuQY"
      },
      "source": [
        "for folder_path in glob.glob('C:/Users/57lzhang/Desktop/PPG/*'):\r\n",
        "    file_path = glob.glob(folder_path + '/*')\r\n",
        "    df = pd.read_csv(file_path[0])"
      ],
      "execution_count": 3,
      "outputs": []
    },
    {
      "cell_type": "code",
      "metadata": {
        "colab": {
          "base_uri": "https://localhost:8080/",
          "height": 219
        },
        "id": "G88S300JYEjm",
        "outputId": "54ae4728-055d-4bf7-f07b-4ebbb4b05f25"
      },
      "source": [
        "df.head()"
      ],
      "execution_count": 4,
      "outputs": [
        {
          "output_type": "execute_result",
          "data": {
            "text/plain": [
              "  Timestamp of Read Request [HH:mm:ss.MM] Estimated sample time [HH:mm:ss.MM]  \\\n",
              "0                             10:08:14 AM                         10:08:12 AM   \n",
              "1                             10:08:14 AM                         10:08:12 AM   \n",
              "2                             10:08:14 AM                         10:08:12 AM   \n",
              "3                             10:08:14 AM                         10:08:12 AM   \n",
              "4                             10:08:14 AM                         10:08:12 AM   \n",
              "\n",
              "   alsVis  alsIr      ps1      ps2  ps3  Temperature       x       y       z  \\\n",
              "0     0.0  292.0  25152.0  16433.0  0.0          0.0 -1265.0  2110.0  3387.0   \n",
              "1     0.0  301.0  25157.0  16432.0  0.0          0.0 -1267.0  2112.0  3390.0   \n",
              "2     0.0  300.0  25162.0  16434.0  0.0          0.0 -1269.0  2111.0  3393.0   \n",
              "3     0.0  304.0  25159.0  16438.0  0.0          0.0 -1266.0  2109.0  3392.0   \n",
              "4     0.0  298.0  25156.0  16436.0  0.0          0.0 -1263.0  2108.0  3395.0   \n",
              "\n",
              "   ppgValid  accValid Activity  \n",
              "0       1.0       1.0      NaN  \n",
              "1       1.0       1.0      NaN  \n",
              "2       1.0       1.0      NaN  \n",
              "3       1.0       1.0      NaN  \n",
              "4       1.0       1.0      NaN  "
            ],
            "text/html": [
              "<div>\n",
              "<style scoped>\n",
              "    .dataframe tbody tr th:only-of-type {\n",
              "        vertical-align: middle;\n",
              "    }\n",
              "\n",
              "    .dataframe tbody tr th {\n",
              "        vertical-align: top;\n",
              "    }\n",
              "\n",
              "    .dataframe thead th {\n",
              "        text-align: right;\n",
              "    }\n",
              "</style>\n",
              "<table border=\"1\" class=\"dataframe\">\n",
              "  <thead>\n",
              "    <tr style=\"text-align: right;\">\n",
              "      <th></th>\n",
              "      <th>Timestamp of Read Request [HH:mm:ss.MM]</th>\n",
              "      <th>Estimated sample time [HH:mm:ss.MM]</th>\n",
              "      <th>alsVis</th>\n",
              "      <th>alsIr</th>\n",
              "      <th>ps1</th>\n",
              "      <th>ps2</th>\n",
              "      <th>ps3</th>\n",
              "      <th>Temperature</th>\n",
              "      <th>x</th>\n",
              "      <th>y</th>\n",
              "      <th>z</th>\n",
              "      <th>ppgValid</th>\n",
              "      <th>accValid</th>\n",
              "      <th>Activity</th>\n",
              "    </tr>\n",
              "  </thead>\n",
              "  <tbody>\n",
              "    <tr>\n",
              "      <td>0</td>\n",
              "      <td>10:08:14 AM</td>\n",
              "      <td>10:08:12 AM</td>\n",
              "      <td>0.0</td>\n",
              "      <td>292.0</td>\n",
              "      <td>25152.0</td>\n",
              "      <td>16433.0</td>\n",
              "      <td>0.0</td>\n",
              "      <td>0.0</td>\n",
              "      <td>-1265.0</td>\n",
              "      <td>2110.0</td>\n",
              "      <td>3387.0</td>\n",
              "      <td>1.0</td>\n",
              "      <td>1.0</td>\n",
              "      <td>NaN</td>\n",
              "    </tr>\n",
              "    <tr>\n",
              "      <td>1</td>\n",
              "      <td>10:08:14 AM</td>\n",
              "      <td>10:08:12 AM</td>\n",
              "      <td>0.0</td>\n",
              "      <td>301.0</td>\n",
              "      <td>25157.0</td>\n",
              "      <td>16432.0</td>\n",
              "      <td>0.0</td>\n",
              "      <td>0.0</td>\n",
              "      <td>-1267.0</td>\n",
              "      <td>2112.0</td>\n",
              "      <td>3390.0</td>\n",
              "      <td>1.0</td>\n",
              "      <td>1.0</td>\n",
              "      <td>NaN</td>\n",
              "    </tr>\n",
              "    <tr>\n",
              "      <td>2</td>\n",
              "      <td>10:08:14 AM</td>\n",
              "      <td>10:08:12 AM</td>\n",
              "      <td>0.0</td>\n",
              "      <td>300.0</td>\n",
              "      <td>25162.0</td>\n",
              "      <td>16434.0</td>\n",
              "      <td>0.0</td>\n",
              "      <td>0.0</td>\n",
              "      <td>-1269.0</td>\n",
              "      <td>2111.0</td>\n",
              "      <td>3393.0</td>\n",
              "      <td>1.0</td>\n",
              "      <td>1.0</td>\n",
              "      <td>NaN</td>\n",
              "    </tr>\n",
              "    <tr>\n",
              "      <td>3</td>\n",
              "      <td>10:08:14 AM</td>\n",
              "      <td>10:08:12 AM</td>\n",
              "      <td>0.0</td>\n",
              "      <td>304.0</td>\n",
              "      <td>25159.0</td>\n",
              "      <td>16438.0</td>\n",
              "      <td>0.0</td>\n",
              "      <td>0.0</td>\n",
              "      <td>-1266.0</td>\n",
              "      <td>2109.0</td>\n",
              "      <td>3392.0</td>\n",
              "      <td>1.0</td>\n",
              "      <td>1.0</td>\n",
              "      <td>NaN</td>\n",
              "    </tr>\n",
              "    <tr>\n",
              "      <td>4</td>\n",
              "      <td>10:08:14 AM</td>\n",
              "      <td>10:08:12 AM</td>\n",
              "      <td>0.0</td>\n",
              "      <td>298.0</td>\n",
              "      <td>25156.0</td>\n",
              "      <td>16436.0</td>\n",
              "      <td>0.0</td>\n",
              "      <td>0.0</td>\n",
              "      <td>-1263.0</td>\n",
              "      <td>2108.0</td>\n",
              "      <td>3395.0</td>\n",
              "      <td>1.0</td>\n",
              "      <td>1.0</td>\n",
              "      <td>NaN</td>\n",
              "    </tr>\n",
              "  </tbody>\n",
              "</table>\n",
              "</div>"
            ]
          },
          "metadata": {
            "tags": []
          },
          "execution_count": 4
        }
      ]
    },
    {
      "cell_type": "code",
      "metadata": {
        "id": "_lTtCI-vepVc"
      },
      "source": [
        "valid_idx = df['Timestamp of Read Request [HH:mm:ss.MM]'].dropna().index"
      ],
      "execution_count": 5,
      "outputs": []
    },
    {
      "cell_type": "code",
      "metadata": {
        "id": "TbusX0jFsk7E"
      },
      "source": [
        "for i in valid_idx:\r\n",
        "    string_time = df['Timestamp of Read Request [HH:mm:ss.MM]'][i]\r\n",
        "    ms_time = string_time[:-3] + '.000'\r\n",
        "    df.loc[df.index == i, 'Timestamp of Read Request [HH:mm:ss.MM]'] = ms_time"
      ],
      "execution_count": null,
      "outputs": []
    },
    {
      "cell_type": "code",
      "metadata": {
        "id": "YsB3bUeqwk9T"
      },
      "source": [
        "for i in valid_idx:\r\n",
        "    string_time = df['Timestamp of Read Request [HH:mm:ss.MM]'][i]\r\n",
        "    ts_time = datetime.datetime.strptime(string_time, '%H:%M:%S %p')\r\n",
        "    ms_time = datetime.datetime.strftime(ts_time, '%H:%M:%S.%f')\r\n",
        "    df.loc[df.index == i, 'Timestamp of Read Request [HH:mm:ss.MM]'] = ms_time"
      ],
      "execution_count": null,
      "outputs": []
    },
    {
      "cell_type": "code",
      "metadata": {
        "colab": {
          "base_uri": "https://localhost:8080/",
          "height": 219
        },
        "id": "W-SVERcYnVLk",
        "outputId": "5369d736-3302-4964-8762-09027dea29f6"
      },
      "source": [
        "df.head()"
      ],
      "execution_count": 172,
      "outputs": [
        {
          "output_type": "execute_result",
          "data": {
            "text/plain": [
              "  Timestamp of Read Request [HH:mm:ss.MM] Estimated sample time [HH:mm:ss.MM]  \\\n",
              "0                            10:08:14.000                         10:08:12 AM   \n",
              "1                            10:08:14.000                         10:08:12 AM   \n",
              "2                            10:08:14.000                         10:08:12 AM   \n",
              "3                            10:08:14.000                         10:08:12 AM   \n",
              "4                            10:08:14.000                         10:08:12 AM   \n",
              "\n",
              "   alsVis  alsIr      ps1      ps2  ps3  Temperature       x       y       z  \\\n",
              "0     0.0  292.0  25152.0  16433.0  0.0          0.0 -1265.0  2110.0  3387.0   \n",
              "1     0.0  301.0  25157.0  16432.0  0.0          0.0 -1267.0  2112.0  3390.0   \n",
              "2     0.0  300.0  25162.0  16434.0  0.0          0.0 -1269.0  2111.0  3393.0   \n",
              "3     0.0  304.0  25159.0  16438.0  0.0          0.0 -1266.0  2109.0  3392.0   \n",
              "4     0.0  298.0  25156.0  16436.0  0.0          0.0 -1263.0  2108.0  3395.0   \n",
              "\n",
              "   ppgValid  accValid Activity  \n",
              "0       1.0       1.0      NaN  \n",
              "1       1.0       1.0      NaN  \n",
              "2       1.0       1.0      NaN  \n",
              "3       1.0       1.0      NaN  \n",
              "4       1.0       1.0      NaN  "
            ],
            "text/html": [
              "<div>\n",
              "<style scoped>\n",
              "    .dataframe tbody tr th:only-of-type {\n",
              "        vertical-align: middle;\n",
              "    }\n",
              "\n",
              "    .dataframe tbody tr th {\n",
              "        vertical-align: top;\n",
              "    }\n",
              "\n",
              "    .dataframe thead th {\n",
              "        text-align: right;\n",
              "    }\n",
              "</style>\n",
              "<table border=\"1\" class=\"dataframe\">\n",
              "  <thead>\n",
              "    <tr style=\"text-align: right;\">\n",
              "      <th></th>\n",
              "      <th>Timestamp of Read Request [HH:mm:ss.MM]</th>\n",
              "      <th>Estimated sample time [HH:mm:ss.MM]</th>\n",
              "      <th>alsVis</th>\n",
              "      <th>alsIr</th>\n",
              "      <th>ps1</th>\n",
              "      <th>ps2</th>\n",
              "      <th>ps3</th>\n",
              "      <th>Temperature</th>\n",
              "      <th>x</th>\n",
              "      <th>y</th>\n",
              "      <th>z</th>\n",
              "      <th>ppgValid</th>\n",
              "      <th>accValid</th>\n",
              "      <th>Activity</th>\n",
              "    </tr>\n",
              "  </thead>\n",
              "  <tbody>\n",
              "    <tr>\n",
              "      <td>0</td>\n",
              "      <td>10:08:14.000</td>\n",
              "      <td>10:08:12 AM</td>\n",
              "      <td>0.0</td>\n",
              "      <td>292.0</td>\n",
              "      <td>25152.0</td>\n",
              "      <td>16433.0</td>\n",
              "      <td>0.0</td>\n",
              "      <td>0.0</td>\n",
              "      <td>-1265.0</td>\n",
              "      <td>2110.0</td>\n",
              "      <td>3387.0</td>\n",
              "      <td>1.0</td>\n",
              "      <td>1.0</td>\n",
              "      <td>NaN</td>\n",
              "    </tr>\n",
              "    <tr>\n",
              "      <td>1</td>\n",
              "      <td>10:08:14.000</td>\n",
              "      <td>10:08:12 AM</td>\n",
              "      <td>0.0</td>\n",
              "      <td>301.0</td>\n",
              "      <td>25157.0</td>\n",
              "      <td>16432.0</td>\n",
              "      <td>0.0</td>\n",
              "      <td>0.0</td>\n",
              "      <td>-1267.0</td>\n",
              "      <td>2112.0</td>\n",
              "      <td>3390.0</td>\n",
              "      <td>1.0</td>\n",
              "      <td>1.0</td>\n",
              "      <td>NaN</td>\n",
              "    </tr>\n",
              "    <tr>\n",
              "      <td>2</td>\n",
              "      <td>10:08:14.000</td>\n",
              "      <td>10:08:12 AM</td>\n",
              "      <td>0.0</td>\n",
              "      <td>300.0</td>\n",
              "      <td>25162.0</td>\n",
              "      <td>16434.0</td>\n",
              "      <td>0.0</td>\n",
              "      <td>0.0</td>\n",
              "      <td>-1269.0</td>\n",
              "      <td>2111.0</td>\n",
              "      <td>3393.0</td>\n",
              "      <td>1.0</td>\n",
              "      <td>1.0</td>\n",
              "      <td>NaN</td>\n",
              "    </tr>\n",
              "    <tr>\n",
              "      <td>3</td>\n",
              "      <td>10:08:14.000</td>\n",
              "      <td>10:08:12 AM</td>\n",
              "      <td>0.0</td>\n",
              "      <td>304.0</td>\n",
              "      <td>25159.0</td>\n",
              "      <td>16438.0</td>\n",
              "      <td>0.0</td>\n",
              "      <td>0.0</td>\n",
              "      <td>-1266.0</td>\n",
              "      <td>2109.0</td>\n",
              "      <td>3392.0</td>\n",
              "      <td>1.0</td>\n",
              "      <td>1.0</td>\n",
              "      <td>NaN</td>\n",
              "    </tr>\n",
              "    <tr>\n",
              "      <td>4</td>\n",
              "      <td>10:08:14.000</td>\n",
              "      <td>10:08:12 AM</td>\n",
              "      <td>0.0</td>\n",
              "      <td>298.0</td>\n",
              "      <td>25156.0</td>\n",
              "      <td>16436.0</td>\n",
              "      <td>0.0</td>\n",
              "      <td>0.0</td>\n",
              "      <td>-1263.0</td>\n",
              "      <td>2108.0</td>\n",
              "      <td>3395.0</td>\n",
              "      <td>1.0</td>\n",
              "      <td>1.0</td>\n",
              "      <td>NaN</td>\n",
              "    </tr>\n",
              "  </tbody>\n",
              "</table>\n",
              "</div>"
            ]
          },
          "metadata": {
            "tags": []
          },
          "execution_count": 172
        }
      ]
    },
    {
      "cell_type": "code",
      "metadata": {
        "id": "0Rfe-cGGnXNR"
      },
      "source": [
        "df.tail()"
      ],
      "execution_count": null,
      "outputs": []
    },
    {
      "cell_type": "code",
      "metadata": {
        "id": "2fsxHyVdm9nT"
      },
      "source": [
        "df.to_csv(file_path[0][:-4]+'_time.csv', index=False)"
      ],
      "execution_count": null,
      "outputs": []
    },
    {
      "cell_type": "code",
      "metadata": {
        "id": "x3Xm9HJ3ha9v"
      },
      "source": [
        "def add_millisecond(dir):\r\n",
        "    \"\"\"\r\n",
        "    Add millisecond to the timestamp columns\r\n",
        "    \r\n",
        "    params:\r\n",
        "    dir -- directory where subject level folder is saved \r\n",
        "           (e.g. 'C:/Users/57lzhang/Desktop/PPG/' )\r\n",
        "    \r\n",
        "    output:\r\n",
        "    a corrected csv file saved in the same folder\r\n",
        "    \"\"\"\r\n",
        "    for folder_path in glob.glob(os.path.join(dir, '/*')):\r\n",
        "    file_path = glob.glob(folder_path + '/*')\r\n",
        "    for file in file_path:\r\n",
        "        df = pd.read_csv(file)\r\n",
        "        # in case some rows are empty\r\n",
        "        valid_idx = df['Timestamp of Read Request [HH:mm:ss.MM]'].dropna().index\r\n",
        "        for i in valid_idx:\r\n",
        "            string_time = df['Timestamp of Read Request [HH:mm:ss.MM]'][i]\r\n",
        "            ts_time = datetime.datetime.strptime(string_time, '%H:%M:%S %p')\r\n",
        "            ms_time = datetime.datetime.strftime(ts_time, '%H:%M:%S.%f')\r\n",
        "            df['Timestamp of Read Request [HH:mm:ss.MM]'][i] = ms_time\r\n",
        "    \r\n",
        "            \r\n"
      ],
      "execution_count": null,
      "outputs": []
    }
  ]
}